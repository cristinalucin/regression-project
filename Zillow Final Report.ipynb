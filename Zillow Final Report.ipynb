{
 "cells": [
  {
   "cell_type": "markdown",
   "id": "2c30a757",
   "metadata": {},
   "source": [
    "# Zillow Regression Project                     \n",
    "### *Presented by: Cristina Lucin*"
   ]
  },
  {
   "cell_type": "markdown",
   "id": "4c085c3e",
   "metadata": {},
   "source": [
    "____"
   ]
  },
  {
   "cell_type": "markdown",
   "id": "46d0088d",
   "metadata": {},
   "source": [
    "## Project Overview"
   ]
  },
  {
   "cell_type": "markdown",
   "id": "200d296a",
   "metadata": {},
   "source": [
    "### This project is designed to identify important features and build a regression model to predict tax-assessed property value for single home properties. This report uses 'cost' or 'value' to refer to a home's tax assessed value."
   ]
  },
  {
   "cell_type": "markdown",
   "id": "5c97d2db",
   "metadata": {},
   "source": [
    "_______"
   ]
  },
  {
   "cell_type": "markdown",
   "id": "90a216e8",
   "metadata": {},
   "source": [
    "## Goals"
   ]
  },
  {
   "cell_type": "markdown",
   "id": "bcc56d30",
   "metadata": {},
   "source": [
    "Create deliverables:\n",
    "- READ ME\n",
    "- Final Report\n",
    "- Functional wrangle.py, explore.py, and model.py files\n",
    "- Acquire Zillow data from the Codeup database using functions located in Wrangle file\n",
    "- Prepare and split the data\n",
    "- Explore the data and define hypotheses, running appropriate statistical tests to accept or reject each null hypothesis\n",
    "- Create a baseline model in predicting home cost and document the Root Mean Square Error (RMSE)\n",
    "- Fit and train four (4) regression models to predict cost on the train dataset\n",
    "- Evaluate the models by comparing their performance on train and validation data\n",
    "- Select the best model and evaluate it on testing data\n",
    "- Develop and document findings, takeaways, recommendations and next steps"
   ]
  },
  {
   "cell_type": "code",
   "execution_count": 1,
   "id": "18b813ca",
   "metadata": {},
   "outputs": [],
   "source": [
    "#Get Imports\n",
    "import numpy as np\n",
    "import pandas as pd\n",
    "\n",
    "#Visualization\n",
    "import matplotlib.pyplot as plt\n",
    "%matplotlib inline\n",
    "import seaborn as sns\n",
    "\n",
    "#SK Learn\n",
    "from sklearn.feature_selection import RFE, SelectKBest, f_regression\n",
    "from sklearn.metrics import mean_squared_error, explained_variance_score\n",
    "from sklearn.preprocessing import PolynomialFeatures\n",
    "from sklearn.model_selection import train_test_split\n",
    "from sklearn.linear_model import LinearRegression, LassoLars, TweedieRegressor\n",
    "\n",
    "#Stats\n",
    "from scipy.stats import pearsonr, spearmanr, kruskal, levene\n",
    "from statsmodels.stats.outliers_influence import variance_inflation_factor\n",
    "\n",
    "import warnings\n",
    "warnings.filterwarnings(\"ignore\")\n",
    "\n",
    "#My imports\n",
    "import wrangle as w\n",
    "import env\n",
    "import model as m\n",
    "import explore as e"
   ]
  },
  {
   "cell_type": "markdown",
   "id": "0ed7fae6",
   "metadata": {},
   "source": [
    "_________"
   ]
  },
  {
   "cell_type": "markdown",
   "id": "d9124a1c",
   "metadata": {},
   "source": [
    "## Data Acquisition"
   ]
  },
  {
   "cell_type": "markdown",
   "id": "19ce4f0b",
   "metadata": {},
   "source": [
    "- Data acquired from Codeup Database (11/14/2022)\n",
    "- It contained 52,442 rows and 10 columns before cleaning\n",
    "- Each row represents a single-family home located within Los Angeles, Orange, or Ventura County, California.\n",
    "- Each column represents a feature of those homes"
   ]
  },
  {
   "cell_type": "code",
   "execution_count": 2,
   "id": "0581ae1f",
   "metadata": {},
   "outputs": [],
   "source": [
    "#Get the data\n",
    "df = w.get_zillow_data()"
   ]
  },
  {
   "cell_type": "markdown",
   "id": "5bffb954",
   "metadata": {},
   "source": [
    "### Data Dictionary"
   ]
  },
  {
   "cell_type": "markdown",
   "id": "c6244e6d",
   "metadata": {},
   "source": [
    "| Feature | Definition |\n",
    "| --- | --- |\n",
    "| Tax_Value | Value of a property computed by county utilizing tax data (TARGET VARIABLE)\n",
    "| Bedrooms | Number of bedrooms listed for a property|\n",
    "| Bathrooms | Number of bathrooms listed for a property |\n",
    "| Square_Feet | Total square footage listed for a property |\n",
    "| FIPS | Codes associated with US Counties |\n",
    "| Latitude | Latitude associated to a property location |\n",
    "| Longitude | Longitude associated to a property location |\n",
    "| Lot_Size | Total area of a property lot |\n",
    "| Year_Built | Year a property was constructed |\n",
    "| Transaction_Date | Date a property was bought/sold |\n",
    "| Parcel_ID | Unique identifying number associated with a property by Zillow |\n",
    "| Home_Age | Feature-engineered column assigning an integer as \"home age\" by subtracting year built from 2017\n",
    "| County| Feature-engineered column indicating the county a property is located in, utilizing FIPS code"
   ]
  },
  {
   "cell_type": "markdown",
   "id": "17780a85",
   "metadata": {},
   "source": [
    "## Preparing the Data\n",
    "\n",
    "### Prepare Actions:\n",
    "\n",
    "* Renamed columns to promote readability\n",
    "* Checked for nulls and NaN values in the data, dropped Null Values stored as whitespace\n",
    "* Checked that column data types were appropriate, converting data types to facilitate exploration and modeling\n",
    "* Removed outliers utilizing the IQR method with a k value of 3\n",
    "* Total data loss from removing outliers and null values was 4.8%\n",
    "\n",
    "### Feature Engineering\n",
    "\n",
    "* Mapped FIPS data to correspond to their appropriate county (LA, Orange, Ventura)\n",
    "* Created a new column 'home_age' using year_built, casted as an integer"
   ]
  },
  {
   "cell_type": "code",
   "execution_count": 3,
   "id": "4a372bb3",
   "metadata": {},
   "outputs": [
    {
     "data": {
      "text/html": [
       "<div>\n",
       "<style scoped>\n",
       "    .dataframe tbody tr th:only-of-type {\n",
       "        vertical-align: middle;\n",
       "    }\n",
       "\n",
       "    .dataframe tbody tr th {\n",
       "        vertical-align: top;\n",
       "    }\n",
       "\n",
       "    .dataframe thead th {\n",
       "        text-align: right;\n",
       "    }\n",
       "</style>\n",
       "<table border=\"1\" class=\"dataframe\">\n",
       "  <thead>\n",
       "    <tr style=\"text-align: right;\">\n",
       "      <th></th>\n",
       "      <th>bedrooms</th>\n",
       "      <th>bathrooms</th>\n",
       "      <th>square_feet</th>\n",
       "      <th>fips</th>\n",
       "      <th>latitude</th>\n",
       "      <th>longitude</th>\n",
       "      <th>lot_size</th>\n",
       "      <th>year_built</th>\n",
       "      <th>tax_value</th>\n",
       "      <th>transaction_date</th>\n",
       "      <th>parcel_id</th>\n",
       "      <th>county</th>\n",
       "      <th>home_age</th>\n",
       "    </tr>\n",
       "  </thead>\n",
       "  <tbody>\n",
       "    <tr>\n",
       "      <th>0</th>\n",
       "      <td>4</td>\n",
       "      <td>3.5</td>\n",
       "      <td>3100.0</td>\n",
       "      <td>6059</td>\n",
       "      <td>33634931.0</td>\n",
       "      <td>-117869207.0</td>\n",
       "      <td>4506</td>\n",
       "      <td>1998</td>\n",
       "      <td>1023282</td>\n",
       "      <td>2017-01-01</td>\n",
       "      <td>14297519</td>\n",
       "      <td>Orange</td>\n",
       "      <td>19</td>\n",
       "    </tr>\n",
       "    <tr>\n",
       "      <th>1</th>\n",
       "      <td>2</td>\n",
       "      <td>1.0</td>\n",
       "      <td>1465.0</td>\n",
       "      <td>6111</td>\n",
       "      <td>34449266.0</td>\n",
       "      <td>-119281531.0</td>\n",
       "      <td>12647</td>\n",
       "      <td>1967</td>\n",
       "      <td>464000</td>\n",
       "      <td>2017-01-01</td>\n",
       "      <td>17052889</td>\n",
       "      <td>Ventura</td>\n",
       "      <td>50</td>\n",
       "    </tr>\n",
       "  </tbody>\n",
       "</table>\n",
       "</div>"
      ],
      "text/plain": [
       "   bedrooms  bathrooms  square_feet  fips    latitude    longitude  lot_size  \\\n",
       "0         4        3.5       3100.0  6059  33634931.0 -117869207.0      4506   \n",
       "1         2        1.0       1465.0  6111  34449266.0 -119281531.0     12647   \n",
       "\n",
       "   year_built  tax_value transaction_date  parcel_id   county  home_age  \n",
       "0        1998    1023282       2017-01-01   14297519   Orange        19  \n",
       "1        1967     464000       2017-01-01   17052889  Ventura        50  "
      ]
     },
     "execution_count": 3,
     "metadata": {},
     "output_type": "execute_result"
    }
   ],
   "source": [
    "#Prepare the data for exploration using a function called from my \n",
    "#Get Clean data\n",
    "df = w.clean_zillow(df)\n",
    "df.head(2)"
   ]
  },
  {
   "cell_type": "markdown",
   "id": "1392d0ec",
   "metadata": {},
   "source": [
    "### Data Splitting\n",
    "\n",
    "* Split data into train, validate and test (approx. 75/12.5/12.5), stratifying on 'tax_value'"
   ]
  },
  {
   "cell_type": "code",
   "execution_count": 4,
   "id": "6ab6a4d5",
   "metadata": {},
   "outputs": [
    {
     "data": {
      "text/html": [
       "<div>\n",
       "<style scoped>\n",
       "    .dataframe tbody tr th:only-of-type {\n",
       "        vertical-align: middle;\n",
       "    }\n",
       "\n",
       "    .dataframe tbody tr th {\n",
       "        vertical-align: top;\n",
       "    }\n",
       "\n",
       "    .dataframe thead th {\n",
       "        text-align: right;\n",
       "    }\n",
       "</style>\n",
       "<table border=\"1\" class=\"dataframe\">\n",
       "  <thead>\n",
       "    <tr style=\"text-align: right;\">\n",
       "      <th></th>\n",
       "      <th>bedrooms</th>\n",
       "      <th>bathrooms</th>\n",
       "      <th>square_feet</th>\n",
       "      <th>fips</th>\n",
       "      <th>latitude</th>\n",
       "      <th>longitude</th>\n",
       "      <th>lot_size</th>\n",
       "      <th>year_built</th>\n",
       "      <th>tax_value</th>\n",
       "      <th>transaction_date</th>\n",
       "      <th>parcel_id</th>\n",
       "      <th>county</th>\n",
       "      <th>home_age</th>\n",
       "    </tr>\n",
       "  </thead>\n",
       "  <tbody>\n",
       "    <tr>\n",
       "      <th>22349</th>\n",
       "      <td>4</td>\n",
       "      <td>2.5</td>\n",
       "      <td>1922.0</td>\n",
       "      <td>6111</td>\n",
       "      <td>34291222.0</td>\n",
       "      <td>-119214999.0</td>\n",
       "      <td>7884</td>\n",
       "      <td>1967</td>\n",
       "      <td>554066</td>\n",
       "      <td>2017-05-05</td>\n",
       "      <td>17071716</td>\n",
       "      <td>Ventura</td>\n",
       "      <td>50</td>\n",
       "    </tr>\n",
       "    <tr>\n",
       "      <th>1037</th>\n",
       "      <td>3</td>\n",
       "      <td>2.0</td>\n",
       "      <td>1660.0</td>\n",
       "      <td>6037</td>\n",
       "      <td>34113036.0</td>\n",
       "      <td>-117867106.0</td>\n",
       "      <td>7656</td>\n",
       "      <td>1962</td>\n",
       "      <td>512588</td>\n",
       "      <td>2017-01-09</td>\n",
       "      <td>13036208</td>\n",
       "      <td>Los Angeles</td>\n",
       "      <td>55</td>\n",
       "    </tr>\n",
       "  </tbody>\n",
       "</table>\n",
       "</div>"
      ],
      "text/plain": [
       "       bedrooms  bathrooms  square_feet  fips    latitude    longitude  \\\n",
       "22349         4        2.5       1922.0  6111  34291222.0 -119214999.0   \n",
       "1037          3        2.0       1660.0  6037  34113036.0 -117867106.0   \n",
       "\n",
       "       lot_size  year_built  tax_value transaction_date  parcel_id  \\\n",
       "22349      7884        1967     554066       2017-05-05   17071716   \n",
       "1037       7656        1962     512588       2017-01-09   13036208   \n",
       "\n",
       "            county  home_age  \n",
       "22349      Ventura        50  \n",
       "1037   Los Angeles        55  "
      ]
     },
     "execution_count": 4,
     "metadata": {},
     "output_type": "execute_result"
    }
   ],
   "source": [
    "train, validate, test = w.train_validate_test_split(df)\n",
    "train.head(2)"
   ]
  },
  {
   "cell_type": "markdown",
   "id": "20b788ae",
   "metadata": {},
   "source": [
    "## Summary of the data"
   ]
  },
  {
   "cell_type": "code",
   "execution_count": 5,
   "id": "d904b13b",
   "metadata": {},
   "outputs": [],
   "source": [
    "##Visualization showing typical home of this data set"
   ]
  },
  {
   "cell_type": "markdown",
   "id": "e2edc867",
   "metadata": {},
   "source": [
    "_____"
   ]
  },
  {
   "cell_type": "markdown",
   "id": "5b91e49e",
   "metadata": {},
   "source": [
    "# Exploration"
   ]
  },
  {
   "cell_type": "markdown",
   "id": "02099588",
   "metadata": {},
   "source": [
    "## Target Variable: Tax Value"
   ]
  },
  {
   "cell_type": "code",
   "execution_count": 20,
   "id": "2d9b05ea",
   "metadata": {},
   "outputs": [
    {
     "data": {
      "text/plain": [
       "count      34937.00\n",
       "mean      430893.29\n",
       "std       331310.63\n",
       "min         1000.00\n",
       "25%       186636.00\n",
       "50%       357258.00\n",
       "75%       576492.00\n",
       "max      1827450.00\n",
       "Name: tax_value, dtype: float64"
      ]
     },
     "execution_count": 20,
     "metadata": {},
     "output_type": "execute_result"
    }
   ],
   "source": [
    "#Descriptive Statistics for target variable\n",
    "round(train.tax_value.describe(),2)"
   ]
  },
  {
   "cell_type": "code",
   "execution_count": 21,
   "id": "d7f08b68",
   "metadata": {},
   "outputs": [],
   "source": [
    "#Insert visualization of target variable (Viz 1)"
   ]
  },
  {
   "cell_type": "markdown",
   "id": "fbe75a5b",
   "metadata": {},
   "source": [
    "## Question 1: How does location impact home value?"
   ]
  },
  {
   "cell_type": "code",
   "execution_count": 6,
   "id": "a2d3636a",
   "metadata": {},
   "outputs": [
    {
     "data": {
      "image/png": "[encoded data removed]",
      "text/plain": [
       "<Figure size 864x576 with 1 Axes>"
      ]
     },
     "metadata": {
      "needs_background": "light"
     },
     "output_type": "display_data"
    },
    {
     "name": "stdout",
     "output_type": "stream",
     "text": [
      "\n"
     ]
    }
   ],
   "source": [
    "#Import visualization for home value\n",
    "e.county_viz(train)"
   ]
  },
  {
   "cell_type": "markdown",
   "id": "e61bfe86",
   "metadata": {},
   "source": [
    "#### Homes in LA county are significantly less valuable than homes in Orange or Ventura counties. However, the variation of home values within LA couty are wide. LA county contains approximately 90 cities. Even with some outliers removed, the range of median home values within LA county in this data set is nearly 1.8 million. This is reflective of the diversity within LA County, which contains one of the nation's most expensive Zip Codes: Beverly Hills 90210, which in 2021 had a median home prices of 4.1 million (6th most expensive zip code in the nation). In comparison, one of the poorest cities in LA county, Compton, had a median home value of 355,200.\n",
    "\n",
    "#### Taking this into consideration, I formulated a hypothesis that homes in LA county would be have a different value than homes located in Orange or Ventura county:"
   ]
  },
  {
   "cell_type": "markdown",
   "id": "c5e126c2",
   "metadata": {},
   "source": [
    "Hypotheses:\n",
    "\n",
    "$H_0$: **Properties located in LA County and properties outside of LA County have the same tax value**\n",
    "\n",
    "$H_a$: **Properties located in LA County and properties outside of LA County have different mean tax values.**\n",
    "\n",
    "* I used a 95% confidence interval\n",
    "* The resulting alpha value is .05\n"
   ]
  },
  {
   "cell_type": "code",
   "execution_count": 7,
   "id": "391ac175",
   "metadata": {},
   "outputs": [
    {
     "data": {
      "text/plain": [
       "KruskalResult(statistic=1436.0241360646417, pvalue=0.0)"
      ]
     },
     "execution_count": 7,
     "metadata": {},
     "output_type": "execute_result"
    }
   ],
   "source": [
    "#Perform Kruskal-Wallis test\n",
    "e.get_kruskal_county(train)"
   ]
  },
  {
   "cell_type": "markdown",
   "id": "f194c0db",
   "metadata": {},
   "source": [
    "#### Since the P value is less than our alpha (0.05), we can reject the null hypothesis and say that there is a significant difference in  properties in LA County and properties in Ventura or Orange County, with respect to tax value."
   ]
  },
  {
   "cell_type": "markdown",
   "id": "411fd425",
   "metadata": {},
   "source": [
    "# Question 2/3: Does an increase in bedrooms/bathrooms also increase property tax value? Are bedrooms or bathrooms a better predictor of home value?"
   ]
  },
  {
   "cell_type": "code",
   "execution_count": 8,
   "id": "d46d1fd6",
   "metadata": {},
   "outputs": [
    {
     "data": {
      "image/png": "[encoded data removed]",
      "text/plain": [
       "<Figure size 720x504 with 1 Axes>"
      ]
     },
     "metadata": {
      "needs_background": "light"
     },
     "output_type": "display_data"
    }
   ],
   "source": [
    "##Visualize bedrooms/bathrooms using a function from my explore file\n",
    "e.get_hist_bedbath(train)"
   ]
  },
  {
   "cell_type": "markdown",
   "id": "45caa2c0",
   "metadata": {},
   "source": [
    "#### After removing outliers, this data had a maximum of six bedrooms, and five and a half bathrooms. Half and three-quarter bathrooms led me to treat bathrooms as a continuous variable. For both bedrooms and bathrooms, an analysis of visualization shows that as bedrooms and bathrooms increase, the actual tax value of a property increases:"
   ]
  },
  {
   "cell_type": "code",
   "execution_count": 9,
   "id": "aea2a0bf",
   "metadata": {},
   "outputs": [],
   "source": [
    "#Insert more visualizations here"
   ]
  },
  {
   "cell_type": "markdown",
   "id": "a488d628",
   "metadata": {},
   "source": [
    "### Bedrooms"
   ]
  },
  {
   "cell_type": "markdown",
   "id": "b0373ff7",
   "metadata": {},
   "source": [
    "Hypotheses:\n",
    "\n",
    "$H_0$: **Number of bedrooms has no relationship with tax value**\n",
    "\n",
    "$H_a$: **Number of bedrooms has a relationship with tax value**\n",
    "\n",
    "* I used a 95% confidence interval\n",
    "* The resulting alpha value is .05"
   ]
  },
  {
   "cell_type": "code",
   "execution_count": 10,
   "id": "c80f14d1",
   "metadata": {},
   "outputs": [
    {
     "data": {
      "text/plain": [
       "KruskalResult(statistic=2437.4735759228015, pvalue=0.0)"
      ]
     },
     "execution_count": 10,
     "metadata": {},
     "output_type": "execute_result"
    }
   ],
   "source": [
    "#Run statistical test comparing bedroom count mean tax value\n",
    "e.kruskal_bedrooms(train)"
   ]
  },
  {
   "cell_type": "markdown",
   "id": "f4736655",
   "metadata": {},
   "source": [
    "#### Since the P value is less than our alpha (0.05), we can reject the null hypothesis and say that there is a significant difference between properties with different numbers of bedrooms, with respect to tax value."
   ]
  },
  {
   "cell_type": "markdown",
   "id": "0e1b4df7",
   "metadata": {},
   "source": [
    "### Bathrooms"
   ]
  },
  {
   "cell_type": "markdown",
   "id": "6a46c91f",
   "metadata": {},
   "source": [
    "Hypotheses:\n",
    "\n",
    "$H_0$: **Number of bathrooms has no relationship with tax value**\n",
    "\n",
    "$H_a$: **Number of bathrooms has a relationship with tax value**\n",
    "\n",
    "* I used a 95% confidence interval\n",
    "* The resulting alpha value is .05"
   ]
  },
  {
   "cell_type": "code",
   "execution_count": 11,
   "id": "90c6c5d3",
   "metadata": {},
   "outputs": [
    {
     "name": "stdout",
     "output_type": "stream",
     "text": [
      "Test statstic is:0.44, p-value is:0.0\n"
     ]
    }
   ],
   "source": [
    "#Running Spearman's R because my features and target are not normal\n",
    "corr, p = spearmanr(train.bathrooms, train.tax_value)\n",
    "corr, p\n",
    "print(f'Test statstic is:{corr.round(2)}, p-value is:{p}')"
   ]
  },
  {
   "cell_type": "markdown",
   "id": "1ebb5409",
   "metadata": {},
   "source": [
    "#### Since the P value is less than our alpha (0.05), we can reject the null hypothesis and say that there is a positive relationship between number of bathrooms and tax value"
   ]
  },
  {
   "cell_type": "markdown",
   "id": "f7f82592",
   "metadata": {},
   "source": [
    "### To compare the two, I conducted a two-sample, one-tailed t-test comparing properties with over the median number of bathrooms and under the median number of bedrooms with properties having under the median number of bathrooms/over the median number of bedrooms. These two groups were then compared using the target variable, tax value:"
   ]
  },
  {
   "cell_type": "markdown",
   "id": "26e1c407",
   "metadata": {},
   "source": [
    "Hypotheses:\n",
    "\n",
    "$H_0$: **Homes with above median bathrooms and below median bedrooms have a lower or equal tax value than homes with below median bathrooms and above median bedrooms**\n",
    "\n",
    "$H_a$: **Homes with above median bathrooms and below median bedrooms are greater tax value than homes with below median bathrooms and above median bedrooms**\n",
    "\n",
    "* I used a 95% confidence interval\n",
    "* The resulting alpha value is .05"
   ]
  },
  {
   "cell_type": "code",
   "execution_count": 12,
   "id": "5d50707c",
   "metadata": {},
   "outputs": [
    {
     "name": "stdout",
     "output_type": "stream",
     "text": [
      "Test statistic: 9.26, P-Value: 3.9030547897685863e-19\n"
     ]
    }
   ],
   "source": [
    "#Run the test\n",
    "e.get_ttest_bedbath(train)"
   ]
  },
  {
   "cell_type": "markdown",
   "id": "af8b4145",
   "metadata": {},
   "source": [
    "### Based on this test result, we can conclude that homes that homes with more bedrooms, but less bathrooms are generally LESS valuable than homes with bedrooms under the median, but have more bathrooms than the median. This could mean that buyers value number of bathrooms higher than number of bedrooms. "
   ]
  },
  {
   "cell_type": "markdown",
   "id": "a9761d55",
   "metadata": {},
   "source": [
    "# Question 4: Does home age impact tax value?"
   ]
  },
  {
   "cell_type": "code",
   "execution_count": 13,
   "id": "dc776b2a",
   "metadata": {},
   "outputs": [],
   "source": [
    "## Visualization here for home age"
   ]
  },
  {
   "cell_type": "markdown",
   "id": "bde0edbc",
   "metadata": {},
   "source": [
    "Hypothesis:\n",
    "\n",
    "$H_0$: **There is no relationship between home age and tax value**\n",
    "\n",
    "$H_a$: **There is a relationship between home age and tax value**\n",
    "\n",
    "* I used a 95% confidence interval\n",
    "* The resulting alpha value is .05"
   ]
  },
  {
   "cell_type": "code",
   "execution_count": 14,
   "id": "f2e48bfa",
   "metadata": {},
   "outputs": [
    {
     "name": "stdout",
     "output_type": "stream",
     "text": [
      "Test Statistic: -0.26291043249416846, P-Value: 0.0\n"
     ]
    }
   ],
   "source": [
    "#Running Spearman's R test to compare home age and tax value\n",
    "corr, p = spearmanr(train.home_age, train.tax_value)\n",
    "print(f'Test Statistic: {corr}, P-Value: {p}')"
   ]
  },
  {
   "cell_type": "markdown",
   "id": "e93b8c46",
   "metadata": {},
   "source": [
    "#### Since the P value is less than 0.05, we can reject the null hypothesis and say that there is a relationship between home age and tax value. Wherein, as home age increases, there is a decrease in tax value"
   ]
  },
  {
   "cell_type": "markdown",
   "id": "00436212",
   "metadata": {},
   "source": [
    "### Some buyers may shy away from older homes, as they typically require more maintainance and could require higher-cost repairs such as roof replacement, heating/cooling system replacement, or foundation work. "
   ]
  },
  {
   "cell_type": "markdown",
   "id": "57871589",
   "metadata": {},
   "source": [
    "_______"
   ]
  },
  {
   "cell_type": "markdown",
   "id": "7a970910",
   "metadata": {},
   "source": [
    "## Exploration Summary"
   ]
  },
  {
   "cell_type": "markdown",
   "id": "57f727e6",
   "metadata": {},
   "source": [
    "* All features that I examined in this dataset had significant relationships with the target variable of \"tax_value\"\n",
    "* Location matters, as properties within LA county and those without showed significant differences\n",
    "* As bedrooms and bathroom count increases, tax value increases\n",
    "* Home age, which was feature engineered, was significantly related to tax value\n",
    "* More time to explore this data could yield greater results in exploration, specifically within location. Examining properties by Zip Code is likely to yield more results"
   ]
  },
  {
   "cell_type": "markdown",
   "id": "aaf933dd",
   "metadata": {},
   "source": [
    "## Features not taken into modeling:"
   ]
  },
  {
   "cell_type": "markdown",
   "id": "fc54fe19",
   "metadata": {},
   "source": [
    "* FIPS: Translated into County Data, not needed in modeling\n",
    "* Latitude/Longitude: Could be valuable for future examination of location (neighborhood, zip code)\n",
    "* Lot Size: Significant to Tax Value, but Square Feet appears to be a larger driver\n",
    "* Year Built: Feature engineered into home age \n",
    "* Transaction Date: Small potential impact to home value \n",
    "* Parcel ID: Unique property identifier not needed for modeling"
   ]
  },
  {
   "cell_type": "markdown",
   "id": "c9bcf011",
   "metadata": {},
   "source": [
    "# Modeling"
   ]
  },
  {
   "cell_type": "markdown",
   "id": "1d397542",
   "metadata": {},
   "source": [
    "### Goal: \n",
    "* Develop several regression models utilizing features in this dataset\n",
    "* Evaluates models based on Root Mean Squared Error (RMSE) and R^2 Value\n",
    "* Select the model that best predicts tax-value"
   ]
  },
  {
   "cell_type": "markdown",
   "id": "c3f1dbb7",
   "metadata": {},
   "source": [
    "## Model 1 (MVP): Using bedrooms, bathrooms, and square feet "
   ]
  },
  {
   "cell_type": "markdown",
   "id": "b3f14292",
   "metadata": {},
   "source": [
    "#### For my MVP model, I only included bedrooms, bathrooms and square feet in my model. I utilized a min-max scaler and ordinary least squares (OLS) regression. This was it's performance:"
   ]
  },
  {
   "cell_type": "code",
   "execution_count": 15,
   "id": "920c4cee",
   "metadata": {},
   "outputs": [
    {
     "name": "stdout",
     "output_type": "stream",
     "text": [
      "Explained Variance=0.324, Baseline Model RMSE: 331305.893, MVP model RMSE is:272435.766\n"
     ]
    }
   ],
   "source": [
    "#Run MVP model and get results from function in model.py\n",
    "m.get_mvp_model_with_results(train,validate,test)"
   ]
  },
  {
   "cell_type": "markdown",
   "id": "b4f47d95",
   "metadata": {},
   "source": [
    "#### This model has an R2 of 0.32, with a 17% reduction in RMSE"
   ]
  },
  {
   "cell_type": "markdown",
   "id": "73963893",
   "metadata": {},
   "source": [
    "____"
   ]
  },
  {
   "cell_type": "code",
   "execution_count": 16,
   "id": "936a0b05",
   "metadata": {},
   "outputs": [],
   "source": [
    "#prep for modeling\n",
    "X_train, X_validate, X_test, y_train, y_validate, y_test = m.model4_prep(train,validate,test)"
   ]
  },
  {
   "cell_type": "code",
   "execution_count": 17,
   "id": "70879461",
   "metadata": {},
   "outputs": [
    {
     "data": {
      "text/html": [
       "<div>\n",
       "<style scoped>\n",
       "    .dataframe tbody tr th:only-of-type {\n",
       "        vertical-align: middle;\n",
       "    }\n",
       "\n",
       "    .dataframe tbody tr th {\n",
       "        vertical-align: top;\n",
       "    }\n",
       "\n",
       "    .dataframe thead th {\n",
       "        text-align: right;\n",
       "    }\n",
       "</style>\n",
       "<table border=\"1\" class=\"dataframe\">\n",
       "  <thead>\n",
       "    <tr style=\"text-align: right;\">\n",
       "      <th></th>\n",
       "      <th>model</th>\n",
       "      <th>rmse_train</th>\n",
       "      <th>r2_train</th>\n",
       "      <th>rmse_val</th>\n",
       "      <th>r2_val</th>\n",
       "    </tr>\n",
       "  </thead>\n",
       "  <tbody>\n",
       "    <tr>\n",
       "      <th>0</th>\n",
       "      <td>baseline_mean</td>\n",
       "      <td>331305.893220</td>\n",
       "      <td>0.000000</td>\n",
       "      <td>334300.072942</td>\n",
       "      <td>0.000000</td>\n",
       "    </tr>\n",
       "    <tr>\n",
       "      <th>1</th>\n",
       "      <td>LarsLasso, alpha 1</td>\n",
       "      <td>283242.026519</td>\n",
       "      <td>0.269102</td>\n",
       "      <td>285178.706960</td>\n",
       "      <td>0.272230</td>\n",
       "    </tr>\n",
       "    <tr>\n",
       "      <th>2</th>\n",
       "      <td>Polynomial Features 3rd Degree</td>\n",
       "      <td>264647.536769</td>\n",
       "      <td>0.361954</td>\n",
       "      <td>266112.338620</td>\n",
       "      <td>0.366302</td>\n",
       "    </tr>\n",
       "  </tbody>\n",
       "</table>\n",
       "</div>"
      ],
      "text/plain": [
       "                            model     rmse_train  r2_train       rmse_val  \\\n",
       "0                   baseline_mean  331305.893220  0.000000  334300.072942   \n",
       "1              LarsLasso, alpha 1  283242.026519  0.269102  285178.706960   \n",
       "2  Polynomial Features 3rd Degree  264647.536769  0.361954  266112.338620   \n",
       "\n",
       "     r2_val  \n",
       "0  0.000000  \n",
       "1  0.272230  \n",
       "2  0.366302  "
      ]
     },
     "execution_count": 17,
     "metadata": {},
     "output_type": "execute_result"
    }
   ],
   "source": [
    "#Run and evaluate baseline, Lasso_Lars and Polynomial Features 3rd Degree\n",
    "m.evaluate_models(X_train, y_train, X_validate, y_validate)"
   ]
  },
  {
   "cell_type": "markdown",
   "id": "7ff2f503",
   "metadata": {},
   "source": [
    "# Model Evaluation "
   ]
  },
  {
   "cell_type": "markdown",
   "id": "6b587c0c",
   "metadata": {},
   "source": [
    "### Based on the above results, I chose a Polynomial Features (3rd Degree) model to predict property tax-value. I chose this model based on its RMSE score compared to other models, as well as its R2 score and performance on Training and Validation data. I then evaluated this model on my test data:"
   ]
  },
  {
   "cell_type": "code",
   "execution_count": 18,
   "id": "b5802980",
   "metadata": {},
   "outputs": [],
   "source": [
    "#prep for modeling\n",
    "X_train, X_validate, X_test, y_train, y_validate, y_test = m.model4_prep(train,validate,test)"
   ]
  },
  {
   "cell_type": "code",
   "execution_count": 19,
   "id": "a4cb5218",
   "metadata": {},
   "outputs": [
    {
     "data": {
      "text/html": [
       "<div>\n",
       "<style scoped>\n",
       "    .dataframe tbody tr th:only-of-type {\n",
       "        vertical-align: middle;\n",
       "    }\n",
       "\n",
       "    .dataframe tbody tr th {\n",
       "        vertical-align: top;\n",
       "    }\n",
       "\n",
       "    .dataframe thead th {\n",
       "        text-align: right;\n",
       "    }\n",
       "</style>\n",
       "<table border=\"1\" class=\"dataframe\">\n",
       "  <thead>\n",
       "    <tr style=\"text-align: right;\">\n",
       "      <th></th>\n",
       "      <th>train</th>\n",
       "      <th>validate</th>\n",
       "      <th>test</th>\n",
       "    </tr>\n",
       "  </thead>\n",
       "  <tbody>\n",
       "    <tr>\n",
       "      <th>rmse</th>\n",
       "      <td>264647.536769</td>\n",
       "      <td>266112.338620</td>\n",
       "      <td>266284.272457</td>\n",
       "    </tr>\n",
       "    <tr>\n",
       "      <th>r2</th>\n",
       "      <td>0.361954</td>\n",
       "      <td>0.366302</td>\n",
       "      <td>0.361241</td>\n",
       "    </tr>\n",
       "  </tbody>\n",
       "</table>\n",
       "</div>"
      ],
      "text/plain": [
       "              train       validate           test\n",
       "rmse  264647.536769  266112.338620  266284.272457\n",
       "r2         0.361954       0.366302       0.361241"
      ]
     },
     "execution_count": 19,
     "metadata": {},
     "output_type": "execute_result"
    }
   ],
   "source": [
    "#Evaluating this model and train, validate, AND test\n",
    "m.evaluate_model_test(X_train, X_validate, X_test, y_train, y_validate, y_test)"
   ]
  },
  {
   "cell_type": "code",
   "execution_count": null,
   "id": "566d8adc",
   "metadata": {},
   "outputs": [],
   "source": [
    "#Insert Viz here for actual values versus predicted values (Viz 5)"
   ]
  },
  {
   "cell_type": "markdown",
   "id": "6f124b1a",
   "metadata": {},
   "source": [
    "# Conclusion"
   ]
  },
  {
   "cell_type": "markdown",
   "id": "59c82ced",
   "metadata": {},
   "source": [
    "### My model reduced RMSE and increase R2 score from both the baseline and MVP model. Compared to baseline RMSE (331,306), my chosen model of Polynomial Features (3rd Degree) reduced RMSE by 65,022, giving an error reduction of 20% from the baseline. Compared to my MVP mode, my chosen model improved R2 score to 0.36."
   ]
  },
  {
   "cell_type": "markdown",
   "id": "1f66cb8c",
   "metadata": {},
   "source": [
    "___"
   ]
  },
  {
   "cell_type": "markdown",
   "id": "685957e9",
   "metadata": {},
   "source": [
    "# Recommendations"
   ]
  },
  {
   "cell_type": "markdown",
   "id": "33950554",
   "metadata": {},
   "source": [
    "* Continuing feature engineering for location. Classification of properties by Zip Code is likely to provide even stronger drivers of tax value. For properties in this dataset, a separation by county\n",
    "* Obtaining data of last transaction price would likely include a large predictor of tax value"
   ]
  },
  {
   "cell_type": "markdown",
   "id": "267dab31",
   "metadata": {},
   "source": [
    "____"
   ]
  },
  {
   "cell_type": "markdown",
   "id": "b51533e8",
   "metadata": {},
   "source": [
    "# Next Steps"
   ]
  },
  {
   "cell_type": "markdown",
   "id": "581dbe9a",
   "metadata": {},
   "source": [
    "* Including more features into modeling without overfitting a model\n",
    "* Utilizing chosen features with models better suited to fit the skewed data within the Zillow dataset"
   ]
  },
  {
   "cell_type": "markdown",
   "id": "517aa21e",
   "metadata": {},
   "source": [
    "______"
   ]
  },
  {
   "cell_type": "code",
   "execution_count": null,
   "id": "499072b5",
   "metadata": {},
   "outputs": [],
   "source": []
  }
 ],
 "metadata": {
  "kernelspec": {
   "display_name": "Python 3 (ipykernel)",
   "language": "python",
   "name": "python3"
  },
  "language_info": {
   "codemirror_mode": {
    "name": "ipython",
    "version": 3
   },
   "file_extension": ".py",
   "mimetype": "text/x-python",
   "name": "python",
   "nbconvert_exporter": "python",
   "pygments_lexer": "ipython3",
   "version": "3.9.12"
  }
 },
 "nbformat": 4,
 "nbformat_minor": 5
}
