{
 "cells": [
  {
   "cell_type": "markdown",
   "id": "411a891b",
   "metadata": {},
   "source": [
    "# Zillow Regression Project"
   ]
  },
  {
   "cell_type": "markdown",
   "id": "ccd07fb5",
   "metadata": {},
   "source": [
    "### Project Overview"
   ]
  },
  {
   "cell_type": "markdown",
   "id": "d5d51496",
   "metadata": {},
   "source": [
    "#### This project is designed to identify important features and build a regression model to predict tax-assessed property value for single home properties. This report uses 'cost' or 'value' to refer to a home's tax assessed value."
   ]
  },
  {
   "cell_type": "markdown",
   "id": "19787ef5",
   "metadata": {},
   "source": [
    "_______"
   ]
  },
  {
   "cell_type": "markdown",
   "id": "4fde711f",
   "metadata": {},
   "source": [
    "### Goals"
   ]
  },
  {
   "cell_type": "markdown",
   "id": "f4af5ca7",
   "metadata": {},
   "source": [
    "Create deliverables:\n",
    "- READ ME\n",
    "- Final Report\n",
    "- Functional wrangle.py, explore.py, and model.py files\n",
    "- Acquire Zillow data from the Codeup database using functions located in Wrangle file\n",
    "- Prepare and split the data\n",
    "- Explore the data and define hypotheses, running appropriate statistical tests to accept or reject each null hypothesis\n",
    "- Create a baseline model in predicting home cost and document the Root Mean Square Error (RMSE)\n",
    "- Fit and train four (4) regression models to predict cost on the train dataset\n",
    "- Evaluate the models by comparing their performance on train and validation data\n",
    "- Select the best model and evaluate it on testing data\n",
    "- Develop and document findings, takeaways, recommendations and next steps"
   ]
  },
  {
   "cell_type": "code",
   "execution_count": 1,
   "id": "f1287093",
   "metadata": {},
   "outputs": [],
   "source": [
    "#Get Imports\n",
    "import numpy as np\n",
    "import pandas as pd\n",
    "\n",
    "#Visualization\n",
    "import matplotlib.pyplot as plt\n",
    "%matplotlib inline\n",
    "import seaborn as sns\n",
    "\n",
    "#SK Learn\n",
    "from sklearn.feature_selection import RFE, SelectKBest, f_regression\n",
    "from sklearn.metrics import mean_squared_error, explained_variance_score\n",
    "from sklearn.preprocessing import PolynomialFeatures\n",
    "from sklearn.model_selection import train_test_split\n",
    "from sklearn.linear_model import LinearRegression, LassoLars, TweedieRegressor\n",
    "\n",
    "#Stats\n",
    "from scipy.stats import pearsonr, spearmanr, kruskal\n",
    "from statsmodels.stats.outliers_influence import variance_inflation_factor\n",
    "\n",
    "import warnings\n",
    "warnings.filterwarnings(\"ignore\")\n",
    "\n",
    "#My imports\n",
    "import wrangle as w\n",
    "import env\n",
    "import model as m\n",
    "import explore as e"
   ]
  },
  {
   "cell_type": "markdown",
   "id": "eecfbc37",
   "metadata": {},
   "source": [
    "_________"
   ]
  },
  {
   "cell_type": "markdown",
   "id": "2a1c472c",
   "metadata": {},
   "source": [
    "## Data Acquisition"
   ]
  },
  {
   "cell_type": "markdown",
   "id": "ed2b20ca",
   "metadata": {},
   "source": [
    "- Data acquired from Codeup Database (11/14/2022)\n",
    "- It contained 52,442 rows and 10 columns before cleaning\n",
    "- Each row represents a single-family home located within Los Angeles, Orange, or Ventura County, California.\n",
    "- Each column represents a feature of those homes"
   ]
  },
  {
   "cell_type": "code",
   "execution_count": 2,
   "id": "26b4ec9e",
   "metadata": {},
   "outputs": [],
   "source": [
    "#Get the data\n",
    "df = w.get_zillow_data()"
   ]
  },
  {
   "cell_type": "markdown",
   "id": "6a9362c8",
   "metadata": {},
   "source": [
    "### Data Dictionary"
   ]
  },
  {
   "cell_type": "markdown",
   "id": "d19ba5bc",
   "metadata": {},
   "source": [
    "| Feature | Definition |\n",
    "| --- | --- |\n",
    "| Tax_Value | Value of a property computed by county utilizing tax data (TARGET VARIABLE)\n",
    "| Bedrooms | Number of bedrooms listed for a property|\n",
    "| Bathrooms | Number of bathrooms listed for a property |\n",
    "| Square_Feet | Total square footage listed for a property |\n",
    "| FIPS | Codes associated with US Counties |\n",
    "| Latitude | Latitude associated to a property location |\n",
    "| Longitude | Longitude associated to a property location |\n",
    "| Lot_Size | Total area of a property lot |\n",
    "| Year_Built | Year a property was constructed |\n",
    "| Transaction_Date | Date a property was bought/sold |\n",
    "| Parcel_ID | Unique identifying number associated with a property by Zillow |\n",
    "| Home_Age | Feature-engineered column assigning an integer as \"home age\" by subtracting year built from 2017\n",
    "| County| Feature-engineered column indicating the county a property is located in, utilizing FIPS code"
   ]
  },
  {
   "cell_type": "markdown",
   "id": "edb84355",
   "metadata": {},
   "source": [
    "## Preparing the Data\n",
    "\n",
    "### Prepare Actions:\n",
    "\n",
    "* Renamed columns to promote readability\n",
    "* Checked for nulls and NaN values in the data, dropped Null Values stored as whitespace\n",
    "* Checked that column data types were appropriate, converting data types to facilitate exploration and modeling\n",
    "* Removed outliers utilizing the IQR method with a k value of 3\n",
    "* Total data loss from removing outliers and null values was 4.8%\n",
    "\n",
    "### Feature Engineering\n",
    "\n",
    "* Mapped FIPS data to correspond to their appropriate county (LA, Orange, Ventura)\n",
    "* Created a new column 'home_age' using year_built, casted as an integer"
   ]
  },
  {
   "cell_type": "code",
   "execution_count": 3,
   "id": "f2b9bda8",
   "metadata": {},
   "outputs": [
    {
     "data": {
      "text/html": [
       "<div>\n",
       "<style scoped>\n",
       "    .dataframe tbody tr th:only-of-type {\n",
       "        vertical-align: middle;\n",
       "    }\n",
       "\n",
       "    .dataframe tbody tr th {\n",
       "        vertical-align: top;\n",
       "    }\n",
       "\n",
       "    .dataframe thead th {\n",
       "        text-align: right;\n",
       "    }\n",
       "</style>\n",
       "<table border=\"1\" class=\"dataframe\">\n",
       "  <thead>\n",
       "    <tr style=\"text-align: right;\">\n",
       "      <th></th>\n",
       "      <th>bedrooms</th>\n",
       "      <th>bathrooms</th>\n",
       "      <th>square_feet</th>\n",
       "      <th>fips</th>\n",
       "      <th>latitude</th>\n",
       "      <th>longitude</th>\n",
       "      <th>lot_size</th>\n",
       "      <th>year_built</th>\n",
       "      <th>tax_value</th>\n",
       "      <th>transaction_date</th>\n",
       "      <th>parcel_id</th>\n",
       "      <th>county</th>\n",
       "      <th>home_age</th>\n",
       "    </tr>\n",
       "  </thead>\n",
       "  <tbody>\n",
       "    <tr>\n",
       "      <th>0</th>\n",
       "      <td>4</td>\n",
       "      <td>3.5</td>\n",
       "      <td>3100.0</td>\n",
       "      <td>6059</td>\n",
       "      <td>33634931.0</td>\n",
       "      <td>-117869207.0</td>\n",
       "      <td>4506</td>\n",
       "      <td>1998</td>\n",
       "      <td>1023282</td>\n",
       "      <td>2017-01-01</td>\n",
       "      <td>14297519</td>\n",
       "      <td>Orange</td>\n",
       "      <td>19</td>\n",
       "    </tr>\n",
       "    <tr>\n",
       "      <th>1</th>\n",
       "      <td>2</td>\n",
       "      <td>1.0</td>\n",
       "      <td>1465.0</td>\n",
       "      <td>6111</td>\n",
       "      <td>34449266.0</td>\n",
       "      <td>-119281531.0</td>\n",
       "      <td>12647</td>\n",
       "      <td>1967</td>\n",
       "      <td>464000</td>\n",
       "      <td>2017-01-01</td>\n",
       "      <td>17052889</td>\n",
       "      <td>Ventura</td>\n",
       "      <td>50</td>\n",
       "    </tr>\n",
       "  </tbody>\n",
       "</table>\n",
       "</div>"
      ],
      "text/plain": [
       "   bedrooms  bathrooms  square_feet  fips    latitude    longitude  lot_size  \\\n",
       "0         4        3.5       3100.0  6059  33634931.0 -117869207.0      4506   \n",
       "1         2        1.0       1465.0  6111  34449266.0 -119281531.0     12647   \n",
       "\n",
       "   year_built  tax_value transaction_date  parcel_id   county  home_age  \n",
       "0        1998    1023282       2017-01-01   14297519   Orange        19  \n",
       "1        1967     464000       2017-01-01   17052889  Ventura        50  "
      ]
     },
     "execution_count": 3,
     "metadata": {},
     "output_type": "execute_result"
    }
   ],
   "source": [
    "#Prepare the data for exploration using a function called from my \n",
    "#Get Clean data\n",
    "df = w.clean_zillow(df)\n",
    "df.head(2)"
   ]
  },
  {
   "cell_type": "markdown",
   "id": "dc5413c0",
   "metadata": {},
   "source": [
    "### Data Splitting\n",
    "\n",
    "* Split data into train, validate and test (approx. 75/12.5/12.5), stratifying on 'tax_value'"
   ]
  },
  {
   "cell_type": "code",
   "execution_count": 4,
   "id": "aee3df95",
   "metadata": {},
   "outputs": [
    {
     "data": {
      "text/html": [
       "<div>\n",
       "<style scoped>\n",
       "    .dataframe tbody tr th:only-of-type {\n",
       "        vertical-align: middle;\n",
       "    }\n",
       "\n",
       "    .dataframe tbody tr th {\n",
       "        vertical-align: top;\n",
       "    }\n",
       "\n",
       "    .dataframe thead th {\n",
       "        text-align: right;\n",
       "    }\n",
       "</style>\n",
       "<table border=\"1\" class=\"dataframe\">\n",
       "  <thead>\n",
       "    <tr style=\"text-align: right;\">\n",
       "      <th></th>\n",
       "      <th>bedrooms</th>\n",
       "      <th>bathrooms</th>\n",
       "      <th>square_feet</th>\n",
       "      <th>fips</th>\n",
       "      <th>latitude</th>\n",
       "      <th>longitude</th>\n",
       "      <th>lot_size</th>\n",
       "      <th>year_built</th>\n",
       "      <th>tax_value</th>\n",
       "      <th>transaction_date</th>\n",
       "      <th>parcel_id</th>\n",
       "      <th>county</th>\n",
       "      <th>home_age</th>\n",
       "    </tr>\n",
       "  </thead>\n",
       "  <tbody>\n",
       "    <tr>\n",
       "      <th>22349</th>\n",
       "      <td>4</td>\n",
       "      <td>2.5</td>\n",
       "      <td>1922.0</td>\n",
       "      <td>6111</td>\n",
       "      <td>34291222.0</td>\n",
       "      <td>-119214999.0</td>\n",
       "      <td>7884</td>\n",
       "      <td>1967</td>\n",
       "      <td>554066</td>\n",
       "      <td>2017-05-05</td>\n",
       "      <td>17071716</td>\n",
       "      <td>Ventura</td>\n",
       "      <td>50</td>\n",
       "    </tr>\n",
       "    <tr>\n",
       "      <th>1037</th>\n",
       "      <td>3</td>\n",
       "      <td>2.0</td>\n",
       "      <td>1660.0</td>\n",
       "      <td>6037</td>\n",
       "      <td>34113036.0</td>\n",
       "      <td>-117867106.0</td>\n",
       "      <td>7656</td>\n",
       "      <td>1962</td>\n",
       "      <td>512588</td>\n",
       "      <td>2017-01-09</td>\n",
       "      <td>13036208</td>\n",
       "      <td>Los Angeles</td>\n",
       "      <td>55</td>\n",
       "    </tr>\n",
       "  </tbody>\n",
       "</table>\n",
       "</div>"
      ],
      "text/plain": [
       "       bedrooms  bathrooms  square_feet  fips    latitude    longitude  \\\n",
       "22349         4        2.5       1922.0  6111  34291222.0 -119214999.0   \n",
       "1037          3        2.0       1660.0  6037  34113036.0 -117867106.0   \n",
       "\n",
       "       lot_size  year_built  tax_value transaction_date  parcel_id  \\\n",
       "22349      7884        1967     554066       2017-05-05   17071716   \n",
       "1037       7656        1962     512588       2017-01-09   13036208   \n",
       "\n",
       "            county  home_age  \n",
       "22349      Ventura        50  \n",
       "1037   Los Angeles        55  "
      ]
     },
     "execution_count": 4,
     "metadata": {},
     "output_type": "execute_result"
    }
   ],
   "source": [
    "train, validate, test = w.train_validate_test_split(df)\n",
    "train.head(2)"
   ]
  },
  {
   "cell_type": "markdown",
   "id": "33fbc9fa",
   "metadata": {},
   "source": [
    "## Summary of the data"
   ]
  },
  {
   "cell_type": "code",
   "execution_count": 5,
   "id": "a1c98aed",
   "metadata": {},
   "outputs": [],
   "source": [
    "##Visualization showing typical home of this data set"
   ]
  },
  {
   "cell_type": "code",
   "execution_count": null,
   "id": "85ce681e",
   "metadata": {},
   "outputs": [],
   "source": []
  },
  {
   "cell_type": "code",
   "execution_count": null,
   "id": "0abf368b",
   "metadata": {},
   "outputs": [],
   "source": []
  },
  {
   "cell_type": "markdown",
   "id": "d5e25792",
   "metadata": {},
   "source": [
    "# Exploration"
   ]
  },
  {
   "cell_type": "markdown",
   "id": "035cfe79",
   "metadata": {},
   "source": [
    "## Question 1: How does location impact home value?"
   ]
  },
  {
   "cell_type": "code",
   "execution_count": 6,
   "id": "f50f05ea",
   "metadata": {},
   "outputs": [
    {
     "data": {
      "image/png": "[encoded data removed]",
      "text/plain": [
       "<Figure size 864x576 with 1 Axes>"
      ]
     },
     "metadata": {
      "needs_background": "light"
     },
     "output_type": "display_data"
    },
    {
     "name": "stdout",
     "output_type": "stream",
     "text": [
      "\n"
     ]
    }
   ],
   "source": [
    "#Import visualization for home value\n",
    "e.location_viz(train)"
   ]
  },
  {
   "cell_type": "markdown",
   "id": "310b962c",
   "metadata": {},
   "source": [
    "#### Homes in LA county are significantly less valuable than homes in Orange or Ventura counties. However, the variation of home values within LA couty are wide. LA county contains approximately 90 cities. Even with some outliers removed, the range of median home values within LA county in this data set is nearly 1.8 million. This is reflective of the diversity within LA County, which contains one of the nation's most expensive Zip Codes: Beverly Hills 90210, which in 2021 had a median home prices of 4.1 million (6th most expensive zip code in the nation). In comparison, one of the poorest cities in LA county, Compton, had a median home value of 355,200.\n",
    "\n",
    "#### Taking this into consideration, I formulated a hypothesis that homes in LA county would be have a different value than homes located in Orange or Ventura county:"
   ]
  },
  {
   "cell_type": "markdown",
   "id": "8af7907d",
   "metadata": {},
   "source": [
    "### Senior Citizen vs. Churn:\n",
    "\n",
    "* I used a 95% confidence interval\n",
    "* The resulting alpha value is .05\n",
    "\n",
    "Hypotheses:\n",
    "\n",
    "$H_0$: **Properties located in LA County and properties outside of LA County have the same tax value**\n",
    "\n",
    "$H_a$: **Properties located in LA County and properties outside of LA County have different mean tax values.**"
   ]
  },
  {
   "cell_type": "code",
   "execution_count": 7,
   "id": "e7d1ac5e",
   "metadata": {},
   "outputs": [
    {
     "data": {
      "text/plain": [
       "KruskalResult(statistic=1436.0241360646417, pvalue=0.0)"
      ]
     },
     "execution_count": 7,
     "metadata": {},
     "output_type": "execute_result"
    }
   ],
   "source": [
    "#Perform Kruskal-Wallis test\n",
    "e.get_kruskal_county(train)"
   ]
  },
  {
   "cell_type": "markdown",
   "id": "beeb5961",
   "metadata": {},
   "source": [
    "#### Since the P value is less than our alpha (0.05), we can reject the null hypothesis and say that there is a significant relationship between properties in LA County and properties in Ventura or Orange County, with respect to tax value."
   ]
  },
  {
   "cell_type": "markdown",
   "id": "45b648d0",
   "metadata": {},
   "source": [
    "# Question 2: Are bedrooms or bathrooms a better predictor of home value?"
   ]
  },
  {
   "cell_type": "code",
   "execution_count": 8,
   "id": "709d76d0",
   "metadata": {},
   "outputs": [],
   "source": [
    "##Insert visualization here"
   ]
  },
  {
   "cell_type": "code",
   "execution_count": null,
   "id": "ed1b3c95",
   "metadata": {},
   "outputs": [],
   "source": []
  }
 ],
 "metadata": {
  "kernelspec": {
   "display_name": "Python 3 (ipykernel)",
   "language": "python",
   "name": "python3"
  },
  "language_info": {
   "codemirror_mode": {
    "name": "ipython",
    "version": 3
   },
   "file_extension": ".py",
   "mimetype": "text/x-python",
   "name": "python",
   "nbconvert_exporter": "python",
   "pygments_lexer": "ipython3",
   "version": "3.9.12"
  }
 },
 "nbformat": 4,
 "nbformat_minor": 5
}
