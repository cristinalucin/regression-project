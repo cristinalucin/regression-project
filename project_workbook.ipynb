{
 "cells": [
  {
   "cell_type": "code",
   "execution_count": 1,
   "id": "e7e07680",
   "metadata": {},
   "outputs": [],
   "source": [
    "import numpy as np\n",
    "import pandas as pd\n",
    "\n",
    "#Visualization\n",
    "import matplotlib.pyplot as plt\n",
    "%matplotlib inline\n",
    "import seaborn as sns\n",
    "\n",
    "#SK Learn\n",
    "from sklearn.feature_selection import RFE\n",
    "from sklearn.metrics import mean_squared_error\n",
    "from sklearn.preprocessing import MinMaxScaler\n",
    "from sklearn.model_selection import train_test_split\n",
    "from sklearn.linear_model import LinearRegression, LassoLars, TweedieRegressor\n",
    "from sklearn.preprocessing import PolynomialFeatures\n",
    "from sklearn.feature_selection import SelectKBest, f_regression\n",
    "\n",
    "#Stats\n",
    "from scipy.stats import pearsonr, spearmanr\n",
    "from statsmodels.stats.outliers_influence import variance_inflation_factor\n",
    "\n",
    "import warnings\n",
    "warnings.filterwarnings(\"ignore\")\n",
    "\n",
    "from importlib import reload\n",
    "\n",
    "#My imports\n",
    "import wrangle as w\n",
    "import env\n",
    "import model as m"
   ]
  },
  {
   "cell_type": "code",
   "execution_count": 2,
   "id": "4e49c0d3",
   "metadata": {},
   "outputs": [],
   "source": [
    "df = w.get_zillow_data()"
   ]
  },
  {
   "cell_type": "code",
   "execution_count": 3,
   "id": "eb37b4f4",
   "metadata": {
    "scrolled": true
   },
   "outputs": [
    {
     "data": {
      "text/html": [
       "<div>\n",
       "<style scoped>\n",
       "    .dataframe tbody tr th:only-of-type {\n",
       "        vertical-align: middle;\n",
       "    }\n",
       "\n",
       "    .dataframe tbody tr th {\n",
       "        vertical-align: top;\n",
       "    }\n",
       "\n",
       "    .dataframe thead th {\n",
       "        text-align: right;\n",
       "    }\n",
       "</style>\n",
       "<table border=\"1\" class=\"dataframe\">\n",
       "  <thead>\n",
       "    <tr style=\"text-align: right;\">\n",
       "      <th></th>\n",
       "      <th>bedroomcnt</th>\n",
       "      <th>bathroomcnt</th>\n",
       "      <th>calculatedfinishedsquarefeet</th>\n",
       "      <th>fips</th>\n",
       "      <th>latitude</th>\n",
       "      <th>longitude</th>\n",
       "      <th>lotsizesquarefeet</th>\n",
       "      <th>yearbuilt</th>\n",
       "      <th>taxvaluedollarcnt</th>\n",
       "      <th>transactiondate</th>\n",
       "      <th>parcelid</th>\n",
       "    </tr>\n",
       "  </thead>\n",
       "  <tbody>\n",
       "    <tr>\n",
       "      <th>0</th>\n",
       "      <td>4.0</td>\n",
       "      <td>3.5</td>\n",
       "      <td>3100.0</td>\n",
       "      <td>6059.0</td>\n",
       "      <td>33634931.0</td>\n",
       "      <td>-117869207.0</td>\n",
       "      <td>4506.0</td>\n",
       "      <td>1998.0</td>\n",
       "      <td>1023282.0</td>\n",
       "      <td>2017-01-01</td>\n",
       "      <td>14297519</td>\n",
       "    </tr>\n",
       "    <tr>\n",
       "      <th>1</th>\n",
       "      <td>2.0</td>\n",
       "      <td>1.0</td>\n",
       "      <td>1465.0</td>\n",
       "      <td>6111.0</td>\n",
       "      <td>34449266.0</td>\n",
       "      <td>-119281531.0</td>\n",
       "      <td>12647.0</td>\n",
       "      <td>1967.0</td>\n",
       "      <td>464000.0</td>\n",
       "      <td>2017-01-01</td>\n",
       "      <td>17052889</td>\n",
       "    </tr>\n",
       "  </tbody>\n",
       "</table>\n",
       "</div>"
      ],
      "text/plain": [
       "   bedroomcnt  bathroomcnt  calculatedfinishedsquarefeet    fips    latitude  \\\n",
       "0         4.0          3.5                        3100.0  6059.0  33634931.0   \n",
       "1         2.0          1.0                        1465.0  6111.0  34449266.0   \n",
       "\n",
       "     longitude  lotsizesquarefeet  yearbuilt  taxvaluedollarcnt  \\\n",
       "0 -117869207.0             4506.0     1998.0          1023282.0   \n",
       "1 -119281531.0            12647.0     1967.0           464000.0   \n",
       "\n",
       "  transactiondate  parcelid  \n",
       "0      2017-01-01  14297519  \n",
       "1      2017-01-01  17052889  "
      ]
     },
     "execution_count": 3,
     "metadata": {},
     "output_type": "execute_result"
    }
   ],
   "source": [
    "df.head(2)"
   ]
  },
  {
   "cell_type": "code",
   "execution_count": 4,
   "id": "6491375a",
   "metadata": {},
   "outputs": [
    {
     "name": "stdout",
     "output_type": "stream",
     "text": [
      "<class 'pandas.core.frame.DataFrame'>\n",
      "RangeIndex: 52442 entries, 0 to 52441\n",
      "Data columns (total 11 columns):\n",
      " #   Column                        Non-Null Count  Dtype  \n",
      "---  ------                        --------------  -----  \n",
      " 0   bedroomcnt                    52442 non-null  float64\n",
      " 1   bathroomcnt                   52442 non-null  float64\n",
      " 2   calculatedfinishedsquarefeet  52360 non-null  float64\n",
      " 3   fips                          52442 non-null  float64\n",
      " 4   latitude                      52442 non-null  float64\n",
      " 5   longitude                     52442 non-null  float64\n",
      " 6   lotsizesquarefeet             52073 non-null  float64\n",
      " 7   yearbuilt                     52326 non-null  float64\n",
      " 8   taxvaluedollarcnt             52441 non-null  float64\n",
      " 9   transactiondate               52442 non-null  object \n",
      " 10  parcelid                      52442 non-null  int64  \n",
      "dtypes: float64(9), int64(1), object(1)\n",
      "memory usage: 4.4+ MB\n"
     ]
    }
   ],
   "source": [
    "df.info()"
   ]
  },
  {
   "cell_type": "code",
   "execution_count": 5,
   "id": "06a13bc5",
   "metadata": {},
   "outputs": [],
   "source": [
    "#Clean the data, removing nulls, duplicates, and outliers\n",
    "df = w.clean_zillow(df)"
   ]
  },
  {
   "cell_type": "code",
   "execution_count": 6,
   "id": "aa4ce015",
   "metadata": {},
   "outputs": [
    {
     "data": {
      "text/html": [
       "<div>\n",
       "<style scoped>\n",
       "    .dataframe tbody tr th:only-of-type {\n",
       "        vertical-align: middle;\n",
       "    }\n",
       "\n",
       "    .dataframe tbody tr th {\n",
       "        vertical-align: top;\n",
       "    }\n",
       "\n",
       "    .dataframe thead th {\n",
       "        text-align: right;\n",
       "    }\n",
       "</style>\n",
       "<table border=\"1\" class=\"dataframe\">\n",
       "  <thead>\n",
       "    <tr style=\"text-align: right;\">\n",
       "      <th></th>\n",
       "      <th>bedrooms</th>\n",
       "      <th>bathrooms</th>\n",
       "      <th>square_feet</th>\n",
       "      <th>fips</th>\n",
       "      <th>latitude</th>\n",
       "      <th>longitude</th>\n",
       "      <th>lot_size</th>\n",
       "      <th>year_built</th>\n",
       "      <th>tax_value</th>\n",
       "      <th>transaction_date</th>\n",
       "      <th>parcel_id</th>\n",
       "      <th>county</th>\n",
       "      <th>home_age</th>\n",
       "    </tr>\n",
       "  </thead>\n",
       "  <tbody>\n",
       "    <tr>\n",
       "      <th>0</th>\n",
       "      <td>4</td>\n",
       "      <td>3.5</td>\n",
       "      <td>3100</td>\n",
       "      <td>6059</td>\n",
       "      <td>33634931.0</td>\n",
       "      <td>-117869207.0</td>\n",
       "      <td>4506.0</td>\n",
       "      <td>1998</td>\n",
       "      <td>1023282</td>\n",
       "      <td>2017-01-01</td>\n",
       "      <td>14297519</td>\n",
       "      <td>Orange</td>\n",
       "      <td>19</td>\n",
       "    </tr>\n",
       "    <tr>\n",
       "      <th>1</th>\n",
       "      <td>2</td>\n",
       "      <td>1.0</td>\n",
       "      <td>1465</td>\n",
       "      <td>6111</td>\n",
       "      <td>34449266.0</td>\n",
       "      <td>-119281531.0</td>\n",
       "      <td>12647.0</td>\n",
       "      <td>1967</td>\n",
       "      <td>464000</td>\n",
       "      <td>2017-01-01</td>\n",
       "      <td>17052889</td>\n",
       "      <td>Ventura</td>\n",
       "      <td>50</td>\n",
       "    </tr>\n",
       "  </tbody>\n",
       "</table>\n",
       "</div>"
      ],
      "text/plain": [
       "   bedrooms  bathrooms  square_feet  fips    latitude    longitude  lot_size  \\\n",
       "0         4        3.5         3100  6059  33634931.0 -117869207.0    4506.0   \n",
       "1         2        1.0         1465  6111  34449266.0 -119281531.0   12647.0   \n",
       "\n",
       "   year_built  tax_value transaction_date  parcel_id   county  home_age  \n",
       "0        1998    1023282       2017-01-01   14297519   Orange        19  \n",
       "1        1967     464000       2017-01-01   17052889  Ventura        50  "
      ]
     },
     "execution_count": 6,
     "metadata": {},
     "output_type": "execute_result"
    }
   ],
   "source": [
    "df.head(2)"
   ]
  },
  {
   "cell_type": "code",
   "execution_count": 7,
   "id": "2bb036c7",
   "metadata": {},
   "outputs": [
    {
     "name": "stdout",
     "output_type": "stream",
     "text": [
      "<class 'pandas.core.frame.DataFrame'>\n",
      "Int64Index: 49914 entries, 0 to 52441\n",
      "Data columns (total 13 columns):\n",
      " #   Column            Non-Null Count  Dtype  \n",
      "---  ------            --------------  -----  \n",
      " 0   bedrooms          49914 non-null  int64  \n",
      " 1   bathrooms         49914 non-null  float64\n",
      " 2   square_feet       49914 non-null  int64  \n",
      " 3   fips              49914 non-null  int64  \n",
      " 4   latitude          49914 non-null  float64\n",
      " 5   longitude         49914 non-null  float64\n",
      " 6   lot_size          49914 non-null  float64\n",
      " 7   year_built        49914 non-null  int64  \n",
      " 8   tax_value         49914 non-null  int64  \n",
      " 9   transaction_date  49914 non-null  object \n",
      " 10  parcel_id         49914 non-null  int64  \n",
      " 11  county            49914 non-null  object \n",
      " 12  home_age          49914 non-null  int64  \n",
      "dtypes: float64(4), int64(7), object(2)\n",
      "memory usage: 5.3+ MB\n"
     ]
    }
   ],
   "source": [
    "df.info()"
   ]
  },
  {
   "cell_type": "code",
   "execution_count": 8,
   "id": "dd14a926",
   "metadata": {},
   "outputs": [],
   "source": [
    "#Splitting our data\n",
    "train, validate, test = w.train_validate_test_split(df)"
   ]
  },
  {
   "cell_type": "code",
   "execution_count": 9,
   "id": "29963b80",
   "metadata": {},
   "outputs": [
    {
     "data": {
      "text/html": [
       "<div>\n",
       "<style scoped>\n",
       "    .dataframe tbody tr th:only-of-type {\n",
       "        vertical-align: middle;\n",
       "    }\n",
       "\n",
       "    .dataframe tbody tr th {\n",
       "        vertical-align: top;\n",
       "    }\n",
       "\n",
       "    .dataframe thead th {\n",
       "        text-align: right;\n",
       "    }\n",
       "</style>\n",
       "<table border=\"1\" class=\"dataframe\">\n",
       "  <thead>\n",
       "    <tr style=\"text-align: right;\">\n",
       "      <th></th>\n",
       "      <th>bedrooms</th>\n",
       "      <th>bathrooms</th>\n",
       "      <th>square_feet</th>\n",
       "      <th>fips</th>\n",
       "      <th>latitude</th>\n",
       "      <th>longitude</th>\n",
       "      <th>lot_size</th>\n",
       "      <th>year_built</th>\n",
       "      <th>tax_value</th>\n",
       "      <th>transaction_date</th>\n",
       "      <th>parcel_id</th>\n",
       "      <th>county</th>\n",
       "      <th>home_age</th>\n",
       "    </tr>\n",
       "  </thead>\n",
       "  <tbody>\n",
       "    <tr>\n",
       "      <th>22349</th>\n",
       "      <td>4</td>\n",
       "      <td>2.5</td>\n",
       "      <td>1922</td>\n",
       "      <td>6111</td>\n",
       "      <td>34291222.0</td>\n",
       "      <td>-119214999.0</td>\n",
       "      <td>7884.0</td>\n",
       "      <td>1967</td>\n",
       "      <td>554066</td>\n",
       "      <td>2017-05-05</td>\n",
       "      <td>17071716</td>\n",
       "      <td>Ventura</td>\n",
       "      <td>50</td>\n",
       "    </tr>\n",
       "    <tr>\n",
       "      <th>1037</th>\n",
       "      <td>3</td>\n",
       "      <td>2.0</td>\n",
       "      <td>1660</td>\n",
       "      <td>6037</td>\n",
       "      <td>34113036.0</td>\n",
       "      <td>-117867106.0</td>\n",
       "      <td>7656.0</td>\n",
       "      <td>1962</td>\n",
       "      <td>512588</td>\n",
       "      <td>2017-01-09</td>\n",
       "      <td>13036208</td>\n",
       "      <td>Los Angeles</td>\n",
       "      <td>55</td>\n",
       "    </tr>\n",
       "  </tbody>\n",
       "</table>\n",
       "</div>"
      ],
      "text/plain": [
       "       bedrooms  bathrooms  square_feet  fips    latitude    longitude  \\\n",
       "22349         4        2.5         1922  6111  34291222.0 -119214999.0   \n",
       "1037          3        2.0         1660  6037  34113036.0 -117867106.0   \n",
       "\n",
       "       lot_size  year_built  tax_value transaction_date  parcel_id  \\\n",
       "22349    7884.0        1967     554066       2017-05-05   17071716   \n",
       "1037     7656.0        1962     512588       2017-01-09   13036208   \n",
       "\n",
       "            county  home_age  \n",
       "22349      Ventura        50  \n",
       "1037   Los Angeles        55  "
      ]
     },
     "execution_count": 9,
     "metadata": {},
     "output_type": "execute_result"
    }
   ],
   "source": [
    "train.head(2)"
   ]
  },
  {
   "cell_type": "code",
   "execution_count": 10,
   "id": "09b6922e",
   "metadata": {},
   "outputs": [
    {
     "name": "stdout",
     "output_type": "stream",
     "text": [
      " Train length is 34937 rows\n",
      " Validate length is 7489 rows\n",
      " Test length is 7488 rows\n"
     ]
    }
   ],
   "source": [
    "print(f' Train length is {len(train)} rows')\n",
    "print(f' Validate length is {len(validate)} rows')\n",
    "print(f' Test length is {len(test)} rows')"
   ]
  },
  {
   "cell_type": "code",
   "execution_count": null,
   "id": "4276d13e",
   "metadata": {},
   "outputs": [],
   "source": [
    "## Need to find a place to create dummies\n",
    "#Make dummy variables from county\n",
    "## df = pd.get_dummies(df, columns=['county'], drop_first=False)"
   ]
  },
  {
   "cell_type": "markdown",
   "id": "6e1ec9f0",
   "metadata": {},
   "source": [
    "## Categorical Variable Exploration"
   ]
  },
  {
   "cell_type": "code",
   "execution_count": null,
   "id": "1af85c72",
   "metadata": {},
   "outputs": [],
   "source": [
    "#Breaking down continuous vs categorical variables\n",
    "cat_vars = ['bedrooms', 'county']\n",
    "cont_vars = ['bathrooms', 'square_feet', 'lot_size', 'tax_value', 'home_age']"
   ]
  },
  {
   "cell_type": "code",
   "execution_count": null,
   "id": "e398899a",
   "metadata": {},
   "outputs": [],
   "source": [
    "def plot_categorical_and_continuous_vars(df, cat_vars, cont_vars):\n",
    "    for col in cat_vars:\n",
    "        for col2 in cont_vars:\n",
    "            fig, (ax1, ax2, ax3) = plt.subplots(1,3, figsize=(16,6))\n",
    "            fig.suptitle(f'{col} vs. {col2}')\n",
    "            sns.boxplot(data=df, x=col, y=col2, ax=ax1)\n",
    "            sns.violinplot(data=df, x=col, y=col2, ax=ax2)\n",
    "            sns.barplot(data=df, x=col, y=col2, ax=ax3)\n",
    "            plt.show()"
   ]
  },
  {
   "cell_type": "code",
   "execution_count": null,
   "id": "26e5cdd2",
   "metadata": {},
   "outputs": [],
   "source": [
    "plot_categorical_and_continuous_vars(train, cat_vars, cont_vars)"
   ]
  },
  {
   "cell_type": "code",
   "execution_count": null,
   "id": "81219352",
   "metadata": {},
   "outputs": [],
   "source": [
    "plt.figure(figsize=(16, 3))\n",
    "\n",
    "# List of columns\n",
    "cols = ['bedrooms', 'bathrooms', 'home_age']\n",
    "for i, col in enumerate(cols):\n",
    "    # i starts at 0, but plot nos should start at 1\n",
    "    subplot_num = i+1\n",
    "    # Create subplot.\n",
    "    plt.subplot(1,4,subplot_num)\n",
    "    # Title with column name.\n",
    "    plt.title(col)\n",
    "    # Display histogram for column.\n",
    "    train[col].hist(bins=10)\n",
    "    # Hide gridlines.\n",
    "    plt.grid(False)"
   ]
  },
  {
   "cell_type": "code",
   "execution_count": null,
   "id": "723d92db",
   "metadata": {},
   "outputs": [],
   "source": [
    "for col in cat_vars:\n",
    "    print(col)\n",
    "    print(train[col].value_counts())\n",
    "    print(train[col].value_counts(normalize=True)*100)\n",
    "    sns.countplot(x=col, data=train)\n",
    "    plt.show()"
   ]
  },
  {
   "cell_type": "markdown",
   "id": "915f4bdd",
   "metadata": {},
   "source": [
    "### Bedrooms"
   ]
  },
  {
   "cell_type": "code",
   "execution_count": null,
   "id": "e6e30b3e",
   "metadata": {},
   "outputs": [],
   "source": [
    "# Creating histogram\n",
    "fig, ax = plt.subplots(figsize =(10, 7), tight_layout = True)\n",
    "ax.hist(train.bedrooms)\n",
    "plt.xlabel(\"X-axis\")\n",
    "plt.ylabel(\"y-axis\")\n",
    "plt.title('Bedrooms Histogram')\n",
    " \n",
    "# Show plot\n",
    "plt.show()"
   ]
  },
  {
   "cell_type": "code",
   "execution_count": null,
   "id": "88c816fd",
   "metadata": {},
   "outputs": [],
   "source": [
    "#Displot\n",
    "sns.displot(x='bedrooms', data=train, bins=5)\n",
    "plt.title('bedrooms')\n",
    "plt.show()"
   ]
  },
  {
   "cell_type": "markdown",
   "id": "fa273cb2",
   "metadata": {},
   "source": [
    "### Continuous Variable Exploration"
   ]
  },
  {
   "cell_type": "code",
   "execution_count": null,
   "id": "9d55b12c",
   "metadata": {},
   "outputs": [],
   "source": [
    "#Visualize other numeric data\n",
    "# Plot numeric columns\n",
    "for col in cont_vars:\n",
    "    print(f'Mean {col} is: {train[col].mean()}')\n",
    "    plt.hist(train[col])\n",
    "    plt.title(col)\n",
    "    plt.show()\n",
    "    plt.boxplot(train[col])\n",
    "    plt.title(col)\n",
    "    plt.show()\n",
    "    sns.displot(train[col])\n",
    "    plt.title(col)\n",
    "    plt.show()"
   ]
  },
  {
   "cell_type": "code",
   "execution_count": null,
   "id": "0c2f854a",
   "metadata": {},
   "outputs": [],
   "source": [
    "#Descriptive statistics\n",
    "print(f'Mean bedrooms = {train.bedrooms.mean()}')\n",
    "print(f'Median Bedrooms = {train.bedrooms.median()}')\n",
    "print(f'Mode Bedrooms = {train.bedrooms.mode()}')\n",
    "print(f'Max Bedrooms = {train.bedrooms.max()}')\n",
    "print(f'Min Bedrooms = {train.bedrooms.min()}')"
   ]
  },
  {
   "cell_type": "code",
   "execution_count": null,
   "id": "dce4e800",
   "metadata": {},
   "outputs": [],
   "source": [
    "#Bathrooms in train data set\n",
    "train.bathrooms.value_counts()"
   ]
  },
  {
   "cell_type": "code",
   "execution_count": null,
   "id": "468e224f",
   "metadata": {},
   "outputs": [],
   "source": [
    "#Descriptive statistics of bathrooms\n",
    "print(f'Mean Bathrooms = {train.bathrooms.mean()}')\n",
    "print(f'Median Bathrooms = {train.bathrooms.median()}')\n",
    "print(f'Mode Bathrooms = {train.bathrooms.mode()}')\n",
    "print(f'Max Bathrooms = {train.bathrooms.max()}')\n",
    "print(f'Min Bathrooms = {train.bathrooms.min()}')"
   ]
  },
  {
   "cell_type": "code",
   "execution_count": null,
   "id": "38985c1c",
   "metadata": {},
   "outputs": [],
   "source": [
    "# Creating histogram\n",
    "fig, ax = plt.subplots(figsize =(10, 7), tight_layout = True)\n",
    "ax.hist(train.bathrooms, bins = [0, 1,2,3,4,5])\n",
    "plt.xlabel(\"X-axis\")\n",
    "plt.ylabel(\"y-axis\")\n",
    "plt.title('Bathrooms Histogram')\n",
    " \n",
    "# Show plot\n",
    "plt.show()"
   ]
  },
  {
   "cell_type": "code",
   "execution_count": null,
   "id": "24775c3d",
   "metadata": {},
   "outputs": [],
   "source": [
    "#Displot\n",
    "sns.displot(x='bathrooms', data=train, bins=5)\n",
    "plt.title('bathrooms')\n",
    "plt.show()"
   ]
  },
  {
   "cell_type": "code",
   "execution_count": null,
   "id": "d893f208",
   "metadata": {},
   "outputs": [],
   "source": [
    "sns.pairplot(train)"
   ]
  },
  {
   "cell_type": "code",
   "execution_count": null,
   "id": "f9657149",
   "metadata": {},
   "outputs": [],
   "source": [
    "#Square Feet versus tax Value\n",
    "sns.relplot(train['square_feet'], train['tax_value'], data=train)"
   ]
  },
  {
   "cell_type": "code",
   "execution_count": null,
   "id": "13f21b63",
   "metadata": {},
   "outputs": [],
   "source": [
    "#Square Feet versus tax Value\n",
    "sns.lmplot(x='square_feet', y='tax_value', data=train, scatter=True, line_kws={'color': 'red'})"
   ]
  },
  {
   "cell_type": "code",
   "execution_count": null,
   "id": "7ca3c2e1",
   "metadata": {},
   "outputs": [],
   "source": [
    "#bathrooms versus tax Value\n",
    "sns.relplot(train['home_age'], train['tax_value'], data=train)"
   ]
  },
  {
   "cell_type": "code",
   "execution_count": null,
   "id": "3ad1276e",
   "metadata": {},
   "outputs": [],
   "source": [
    "sns.jointplot(x, y, data=train, kind=scatter)"
   ]
  },
  {
   "cell_type": "code",
   "execution_count": null,
   "id": "6d468297",
   "metadata": {},
   "outputs": [],
   "source": []
  },
  {
   "cell_type": "code",
   "execution_count": null,
   "id": "4d2ef5df",
   "metadata": {},
   "outputs": [],
   "source": []
  },
  {
   "cell_type": "markdown",
   "id": "3fe538e9",
   "metadata": {},
   "source": [
    "## Modeling"
   ]
  },
  {
   "cell_type": "code",
   "execution_count": null,
   "id": "596b0911",
   "metadata": {},
   "outputs": [],
   "source": [
    "#Scale data for modeling\n",
    "train,validate,test = m.scale_data(train,validate,test, columns_to_scale = ['bedrooms', 'bathrooms', 'square_feet'], return_scaler=False)"
   ]
  },
  {
   "cell_type": "code",
   "execution_count": null,
   "id": "ae977c91",
   "metadata": {},
   "outputs": [],
   "source": [
    "train.head(2)"
   ]
  },
  {
   "cell_type": "code",
   "execution_count": null,
   "id": "d944ba2c",
   "metadata": {},
   "outputs": [],
   "source": [
    "#Prepare for modeling using model 1\n",
    "X_train, X_validate, X_test, y_train, y_validate, y_test = m.model1_prep(train,validate,test)"
   ]
  },
  {
   "cell_type": "code",
   "execution_count": null,
   "id": "083836b5",
   "metadata": {},
   "outputs": [],
   "source": [
    "X_train.head(2)"
   ]
  },
  {
   "cell_type": "code",
   "execution_count": null,
   "id": "fbb5c427",
   "metadata": {},
   "outputs": [],
   "source": [
    "#Create Baseline using median\n",
    "baseline = train.tax_value.median()\n",
    "baseline"
   ]
  },
  {
   "cell_type": "markdown",
   "id": "1bb5af53",
   "metadata": {},
   "source": [
    "### Evaluating Residuals with chosen method of polynomial features/linear regression"
   ]
  },
  {
   "cell_type": "code",
   "execution_count": null,
   "id": "8589a39d",
   "metadata": {},
   "outputs": [],
   "source": [
    "#Build the model, choosing polynomial regression\n",
    "# make the polynomial features to get a new set of features\n",
    "pf = PolynomialFeatures(degree=3)\n",
    "\n",
    "# fit and transform X_train_scaled\n",
    "X_train_degree3 = pf.fit_transform(X_train)\n",
    "\n",
    "# transform X_validate_scaled & X_test_scaled\n",
    "X_validate_degree3 = pf.transform(X_validate)\n",
    "X_test_degree3 = pf.transform(X_test)"
   ]
  },
  {
   "cell_type": "code",
   "execution_count": null,
   "id": "6ce4b134",
   "metadata": {},
   "outputs": [],
   "source": [
    "# create the model object\n",
    "plr = LinearRegression(normalize=True)\n",
    "\n",
    "# fit the model to our training data. We must specify the column in y_train, \n",
    "# since we have converted it to a dataframe from a series! \n",
    "plr.fit(X_train_degree3, y_train.tax_value)\n",
    "\n",
    "# predict train\n",
    "y_train['tax_value_pred_plr'] = plr.predict(X_train_degree3)\n",
    "\n",
    "# evaluate: rmse\n",
    "rmse_train = mean_squared_error(y_train.tax_value, y_train.tax_value_pred_plr)**(1/2)\n",
    "\n",
    "# predict validate\n",
    "y_validate['tax_value_pred_plr'] = plr.predict(X_validate_degree3)\n",
    "\n",
    "# evaluate: rmse\n",
    "rmse_validate = mean_squared_error(y_validate.tax_value, y_validate.tax_value_pred_plr)**(1/2)\n",
    "\n",
    "print(\"RMSE for Polynomial Model, degrees=3\\nTraining/In-Sample: \", rmse_train, \n",
    "      \"\\nValidation/Out-of-Sample: \", rmse_validate)"
   ]
  },
  {
   "cell_type": "code",
   "execution_count": null,
   "id": "3a102a63",
   "metadata": {},
   "outputs": [],
   "source": [
    "y_train.head(2)"
   ]
  },
  {
   "cell_type": "code",
   "execution_count": null,
   "id": "1f78d8a1",
   "metadata": {},
   "outputs": [],
   "source": [
    "X_train.head(2)"
   ]
  },
  {
   "cell_type": "code",
   "execution_count": null,
   "id": "51419038",
   "metadata": {},
   "outputs": [],
   "source": [
    "#Creating basemodel to evaluate residuals\n",
    "basemodel = train"
   ]
  },
  {
   "cell_type": "code",
   "execution_count": null,
   "id": "e2901457",
   "metadata": {},
   "outputs": [],
   "source": [
    "keep_cols = ['bedrooms', 'bathrooms', 'square_feet', 'tax_value']\n",
    "basemodel = basemodel[keep_cols]"
   ]
  },
  {
   "cell_type": "code",
   "execution_count": null,
   "id": "0ed17ae8",
   "metadata": {},
   "outputs": [],
   "source": [
    "basemodel.head(2)"
   ]
  },
  {
   "cell_type": "code",
   "execution_count": null,
   "id": "7a1cb967",
   "metadata": {},
   "outputs": [],
   "source": [
    "yhat = y_train.tax_value_pred_plr"
   ]
  },
  {
   "cell_type": "code",
   "execution_count": null,
   "id": "555783bf",
   "metadata": {},
   "outputs": [],
   "source": [
    "yhat.head(5)"
   ]
  },
  {
   "cell_type": "code",
   "execution_count": null,
   "id": "c17fe480",
   "metadata": {},
   "outputs": [],
   "source": [
    "y_train.tax_value_pred_plr"
   ]
  },
  {
   "cell_type": "code",
   "execution_count": null,
   "id": "7a328f92",
   "metadata": {},
   "outputs": [],
   "source": [
    "# compute residuals\n",
    "basemodel['yhat_baseline'] = df['tax_value'].median()\n",
    "basemodel.head(3)\n",
    "\n",
    "basemodel['residual'] = y_train['tax_value_pred_plr'] - basemodel['tax_value']\n",
    "\n",
    "basemodel['residual_baseline'] = basemodel['yhat_baseline'] - basemodel['tax_value']"
   ]
  },
  {
   "cell_type": "code",
   "execution_count": null,
   "id": "668afc45",
   "metadata": {},
   "outputs": [],
   "source": [
    "basemodel['yhat'] = y_train['tax_value_pred_plr']"
   ]
  },
  {
   "cell_type": "code",
   "execution_count": null,
   "id": "de634988",
   "metadata": {},
   "outputs": [],
   "source": [
    "basemodel.head(2)"
   ]
  },
  {
   "cell_type": "code",
   "execution_count": null,
   "id": "3e4e19c5",
   "metadata": {},
   "outputs": [],
   "source": [
    "yhat.loc[[22349]]"
   ]
  },
  {
   "cell_type": "code",
   "execution_count": null,
   "id": "9d0bf4b4",
   "metadata": {},
   "outputs": [],
   "source": [
    "y_train.loc[[22349]]"
   ]
  },
  {
   "cell_type": "code",
   "execution_count": null,
   "id": "960c72d3",
   "metadata": {},
   "outputs": [],
   "source": [
    "basemodel.loc[[22349]]"
   ]
  },
  {
   "cell_type": "markdown",
   "id": "1ef4f32b",
   "metadata": {},
   "source": [
    "### Examining RFE to select features to move to modeling iteration 2"
   ]
  },
  {
   "cell_type": "code",
   "execution_count": 11,
   "id": "03bb1602",
   "metadata": {},
   "outputs": [
    {
     "data": {
      "text/html": [
       "<div>\n",
       "<style scoped>\n",
       "    .dataframe tbody tr th:only-of-type {\n",
       "        vertical-align: middle;\n",
       "    }\n",
       "\n",
       "    .dataframe tbody tr th {\n",
       "        vertical-align: top;\n",
       "    }\n",
       "\n",
       "    .dataframe thead th {\n",
       "        text-align: right;\n",
       "    }\n",
       "</style>\n",
       "<table border=\"1\" class=\"dataframe\">\n",
       "  <thead>\n",
       "    <tr style=\"text-align: right;\">\n",
       "      <th></th>\n",
       "      <th>bedrooms</th>\n",
       "      <th>bathrooms</th>\n",
       "      <th>square_feet</th>\n",
       "      <th>fips</th>\n",
       "      <th>latitude</th>\n",
       "      <th>longitude</th>\n",
       "      <th>lot_size</th>\n",
       "      <th>year_built</th>\n",
       "      <th>tax_value</th>\n",
       "      <th>transaction_date</th>\n",
       "      <th>parcel_id</th>\n",
       "      <th>county</th>\n",
       "      <th>home_age</th>\n",
       "    </tr>\n",
       "  </thead>\n",
       "  <tbody>\n",
       "    <tr>\n",
       "      <th>22349</th>\n",
       "      <td>4</td>\n",
       "      <td>2.5</td>\n",
       "      <td>1922</td>\n",
       "      <td>6111</td>\n",
       "      <td>34291222.0</td>\n",
       "      <td>-119214999.0</td>\n",
       "      <td>7884.0</td>\n",
       "      <td>1967</td>\n",
       "      <td>554066</td>\n",
       "      <td>2017-05-05</td>\n",
       "      <td>17071716</td>\n",
       "      <td>Ventura</td>\n",
       "      <td>50</td>\n",
       "    </tr>\n",
       "    <tr>\n",
       "      <th>1037</th>\n",
       "      <td>3</td>\n",
       "      <td>2.0</td>\n",
       "      <td>1660</td>\n",
       "      <td>6037</td>\n",
       "      <td>34113036.0</td>\n",
       "      <td>-117867106.0</td>\n",
       "      <td>7656.0</td>\n",
       "      <td>1962</td>\n",
       "      <td>512588</td>\n",
       "      <td>2017-01-09</td>\n",
       "      <td>13036208</td>\n",
       "      <td>Los Angeles</td>\n",
       "      <td>55</td>\n",
       "    </tr>\n",
       "  </tbody>\n",
       "</table>\n",
       "</div>"
      ],
      "text/plain": [
       "       bedrooms  bathrooms  square_feet  fips    latitude    longitude  \\\n",
       "22349         4        2.5         1922  6111  34291222.0 -119214999.0   \n",
       "1037          3        2.0         1660  6037  34113036.0 -117867106.0   \n",
       "\n",
       "       lot_size  year_built  tax_value transaction_date  parcel_id  \\\n",
       "22349    7884.0        1967     554066       2017-05-05   17071716   \n",
       "1037     7656.0        1962     512588       2017-01-09   13036208   \n",
       "\n",
       "            county  home_age  \n",
       "22349      Ventura        50  \n",
       "1037   Los Angeles        55  "
      ]
     },
     "execution_count": 11,
     "metadata": {},
     "output_type": "execute_result"
    }
   ],
   "source": [
    "train.head(2)"
   ]
  },
  {
   "cell_type": "code",
   "execution_count": 12,
   "id": "3be4deb0",
   "metadata": {},
   "outputs": [],
   "source": [
    "#Make dummy variables from county\n",
    "train = pd.get_dummies(train, columns=['county'], drop_first=False)"
   ]
  },
  {
   "cell_type": "code",
   "execution_count": 13,
   "id": "2ad888fc",
   "metadata": {},
   "outputs": [],
   "source": [
    "#Drop Columns not needed for modeling\n",
    "train = train.drop(['fips', 'latitude', 'longitude', 'year_built', 'transaction_date', 'parcel_id'], axis=1)\n",
    "validate = validate.drop(['fips', 'latitude', 'longitude', 'year_built', 'transaction_date', 'parcel_id'], axis=1)\n",
    "test = test.drop(['fips', 'latitude', 'longitude', 'year_built', 'transaction_date', 'parcel_id'], axis=1)"
   ]
  },
  {
   "cell_type": "code",
   "execution_count": 14,
   "id": "db8fd7cc",
   "metadata": {},
   "outputs": [
    {
     "data": {
      "text/html": [
       "<div>\n",
       "<style scoped>\n",
       "    .dataframe tbody tr th:only-of-type {\n",
       "        vertical-align: middle;\n",
       "    }\n",
       "\n",
       "    .dataframe tbody tr th {\n",
       "        vertical-align: top;\n",
       "    }\n",
       "\n",
       "    .dataframe thead th {\n",
       "        text-align: right;\n",
       "    }\n",
       "</style>\n",
       "<table border=\"1\" class=\"dataframe\">\n",
       "  <thead>\n",
       "    <tr style=\"text-align: right;\">\n",
       "      <th></th>\n",
       "      <th>bedrooms</th>\n",
       "      <th>bathrooms</th>\n",
       "      <th>square_feet</th>\n",
       "      <th>lot_size</th>\n",
       "      <th>tax_value</th>\n",
       "      <th>home_age</th>\n",
       "      <th>county_Los Angeles</th>\n",
       "      <th>county_Orange</th>\n",
       "      <th>county_Ventura</th>\n",
       "    </tr>\n",
       "  </thead>\n",
       "  <tbody>\n",
       "    <tr>\n",
       "      <th>22349</th>\n",
       "      <td>4</td>\n",
       "      <td>2.5</td>\n",
       "      <td>1922</td>\n",
       "      <td>7884.0</td>\n",
       "      <td>554066</td>\n",
       "      <td>50</td>\n",
       "      <td>0</td>\n",
       "      <td>0</td>\n",
       "      <td>1</td>\n",
       "    </tr>\n",
       "    <tr>\n",
       "      <th>1037</th>\n",
       "      <td>3</td>\n",
       "      <td>2.0</td>\n",
       "      <td>1660</td>\n",
       "      <td>7656.0</td>\n",
       "      <td>512588</td>\n",
       "      <td>55</td>\n",
       "      <td>1</td>\n",
       "      <td>0</td>\n",
       "      <td>0</td>\n",
       "    </tr>\n",
       "  </tbody>\n",
       "</table>\n",
       "</div>"
      ],
      "text/plain": [
       "       bedrooms  bathrooms  square_feet  lot_size  tax_value  home_age  \\\n",
       "22349         4        2.5         1922    7884.0     554066        50   \n",
       "1037          3        2.0         1660    7656.0     512588        55   \n",
       "\n",
       "       county_Los Angeles  county_Orange  county_Ventura  \n",
       "22349                   0              0               1  \n",
       "1037                    1              0               0  "
      ]
     },
     "execution_count": 14,
     "metadata": {},
     "output_type": "execute_result"
    }
   ],
   "source": [
    "train.head(2)"
   ]
  },
  {
   "cell_type": "code",
   "execution_count": 15,
   "id": "fadd86c3",
   "metadata": {},
   "outputs": [],
   "source": [
    "#Scale our data for modeling\n",
    "train, validate, test = m.scale_data(\n",
    "    train,validate,test,columns_to_scale=['bedrooms','bathrooms','square_feet','lot_size','home_age'],\n",
    "    return_scaler=False\n",
    "                                    )"
   ]
  },
  {
   "cell_type": "code",
   "execution_count": 16,
   "id": "080aad38",
   "metadata": {},
   "outputs": [
    {
     "data": {
      "text/html": [
       "<div>\n",
       "<style scoped>\n",
       "    .dataframe tbody tr th:only-of-type {\n",
       "        vertical-align: middle;\n",
       "    }\n",
       "\n",
       "    .dataframe tbody tr th {\n",
       "        vertical-align: top;\n",
       "    }\n",
       "\n",
       "    .dataframe thead th {\n",
       "        text-align: right;\n",
       "    }\n",
       "</style>\n",
       "<table border=\"1\" class=\"dataframe\">\n",
       "  <thead>\n",
       "    <tr style=\"text-align: right;\">\n",
       "      <th></th>\n",
       "      <th>bedrooms</th>\n",
       "      <th>bathrooms</th>\n",
       "      <th>square_feet</th>\n",
       "      <th>lot_size</th>\n",
       "      <th>tax_value</th>\n",
       "      <th>home_age</th>\n",
       "      <th>county_Los Angeles</th>\n",
       "      <th>county_Orange</th>\n",
       "      <th>county_Ventura</th>\n",
       "    </tr>\n",
       "  </thead>\n",
       "  <tbody>\n",
       "    <tr>\n",
       "      <th>22349</th>\n",
       "      <td>0.6</td>\n",
       "      <td>0.454545</td>\n",
       "      <td>0.344626</td>\n",
       "      <td>0.001097</td>\n",
       "      <td>554066</td>\n",
       "      <td>0.355072</td>\n",
       "      <td>0</td>\n",
       "      <td>0</td>\n",
       "      <td>1</td>\n",
       "    </tr>\n",
       "    <tr>\n",
       "      <th>1037</th>\n",
       "      <td>0.4</td>\n",
       "      <td>0.363636</td>\n",
       "      <td>0.293614</td>\n",
       "      <td>0.001064</td>\n",
       "      <td>512588</td>\n",
       "      <td>0.391304</td>\n",
       "      <td>1</td>\n",
       "      <td>0</td>\n",
       "      <td>0</td>\n",
       "    </tr>\n",
       "  </tbody>\n",
       "</table>\n",
       "</div>"
      ],
      "text/plain": [
       "       bedrooms  bathrooms  square_feet  lot_size  tax_value  home_age  \\\n",
       "22349       0.6   0.454545     0.344626  0.001097     554066  0.355072   \n",
       "1037        0.4   0.363636     0.293614  0.001064     512588  0.391304   \n",
       "\n",
       "       county_Los Angeles  county_Orange  county_Ventura  \n",
       "22349                   0              0               1  \n",
       "1037                    1              0               0  "
      ]
     },
     "execution_count": 16,
     "metadata": {},
     "output_type": "execute_result"
    }
   ],
   "source": [
    "train.head(2)"
   ]
  },
  {
   "cell_type": "code",
   "execution_count": 17,
   "id": "a6b8b3e7",
   "metadata": {},
   "outputs": [],
   "source": [
    "#Split data into predicting variables (X) and target variable (y) and reset the index for each dataframe\n",
    "X_train = train.drop(columns='tax_value').reset_index(drop=True)\n",
    "y_train = train[['tax_value']].reset_index(drop=True)\n",
    "\n",
    "X_validate = validate.drop(columns='tax_value').reset_index(drop=True)\n",
    "y_validate = validate[['tax_value']].reset_index(drop=True)\n",
    "\n",
    "X_test = test.drop(columns='tax_value').reset_index(drop=True)\n",
    "y_test = test[['tax_value']].reset_index(drop=True)"
   ]
  },
  {
   "cell_type": "markdown",
   "id": "63923f1d",
   "metadata": {},
   "source": [
    "### Trying RFE first with linear regression (either normalize = True or not)"
   ]
  },
  {
   "cell_type": "code",
   "execution_count": 18,
   "id": "ea6ddec3",
   "metadata": {},
   "outputs": [
    {
     "data": {
      "text/plain": [
       "['county_Los Angeles', 'county_Orange', 'county_Ventura']"
      ]
     },
     "execution_count": 18,
     "metadata": {},
     "output_type": "execute_result"
    }
   ],
   "source": [
    "# initialize the ML algorithm\n",
    "lm = LinearRegression(normalize=True)\n",
    "\n",
    "# create the rfe object, indicating the ML object (lm) and the number of features I want to end up with. \n",
    "rfe = RFE(lm, n_features_to_select=3)\n",
    "\n",
    "# fit the data using RFE\n",
    "rfe.fit(X_train, y_train)  \n",
    "\n",
    "# get the mask of the columns selected\n",
    "feature_mask = rfe.support_\n",
    "\n",
    "# get list of the column names. \n",
    "rfe_feature = X_train.iloc[:,feature_mask].columns.tolist()\n",
    "rfe_feature"
   ]
  },
  {
   "cell_type": "markdown",
   "id": "ba8e17a2",
   "metadata": {},
   "source": [
    "#### Changing n features to select from 3-5 gives different results. "
   ]
  },
  {
   "cell_type": "markdown",
   "id": "a25c6da9",
   "metadata": {},
   "source": [
    "### RFE with lasso lars"
   ]
  },
  {
   "cell_type": "code",
   "execution_count": 19,
   "id": "b4ecd772",
   "metadata": {},
   "outputs": [
    {
     "data": {
      "text/plain": [
       "['bedrooms', 'bathrooms', 'square_feet']"
      ]
     },
     "execution_count": 19,
     "metadata": {},
     "output_type": "execute_result"
    }
   ],
   "source": [
    "# initialize the ML algorithm\n",
    "lars = LassoLars(alpha=1.0)\n",
    "\n",
    "# create the rfe object, indicating the ML object (lm) and the number of features I want to end up with. \n",
    "rfe = RFE(lars, n_features_to_select=3)\n",
    "\n",
    "# fit the data using RFE\n",
    "rfe.fit(X_train, y_train)  \n",
    "\n",
    "# get the mask of the columns selected\n",
    "feature_mask = rfe.support_\n",
    "\n",
    "# get list of the column names. \n",
    "rfe_feature = X_train.iloc[:,feature_mask].columns.tolist()\n",
    "rfe_feature"
   ]
  },
  {
   "cell_type": "code",
   "execution_count": 25,
   "id": "3983ca1e",
   "metadata": {},
   "outputs": [
    {
     "data": {
      "text/plain": [
       "LassoLars()"
      ]
     },
     "execution_count": 25,
     "metadata": {},
     "output_type": "execute_result"
    }
   ],
   "source": [
    "lars"
   ]
  },
  {
   "cell_type": "markdown",
   "id": "6145b585",
   "metadata": {},
   "source": [
    "#### Lasso Lars seems to be more consistent, giving bedrooms, bathrooms, square feet, and then adding on as you increase n features to select"
   ]
  },
  {
   "cell_type": "markdown",
   "id": "23d0b604",
   "metadata": {},
   "source": [
    "### RFE Tweedie Regressor"
   ]
  },
  {
   "cell_type": "code",
   "execution_count": 20,
   "id": "7832df52",
   "metadata": {},
   "outputs": [
    {
     "data": {
      "text/plain": [
       "['bathrooms', 'square_feet', 'county_Los Angeles']"
      ]
     },
     "execution_count": 20,
     "metadata": {},
     "output_type": "execute_result"
    }
   ],
   "source": [
    "# create the model object\n",
    "glm = TweedieRegressor(power=0, alpha=1.0)\n",
    "# create the rfe object, indicating the ML object (lm) and the number of features I want to end up with. \n",
    "rfe = RFE(glm, n_features_to_select=3)\n",
    "\n",
    "# fit the data using RFE\n",
    "rfe.fit(X_train, y_train)  \n",
    "\n",
    "# get the mask of the columns selected\n",
    "feature_mask = rfe.support_\n",
    "\n",
    "# get list of the column names. \n",
    "rfe_feature = X_train.iloc[:,feature_mask].columns.tolist()\n",
    "rfe_feature"
   ]
  },
  {
   "cell_type": "markdown",
   "id": "c8f208a5",
   "metadata": {},
   "source": [
    "#### Not sure if Tweedie will end up being a good fit for final model, but bathrooms, square feet, and county LA seem to be the most driving. Lot Size and bedrooms become important as you add to n features to select"
   ]
  },
  {
   "cell_type": "markdown",
   "id": "eeb0eeb4",
   "metadata": {},
   "source": [
    "### RFE Polynomial Regression"
   ]
  },
  {
   "cell_type": "code",
   "execution_count": 24,
   "id": "84796ec0",
   "metadata": {},
   "outputs": [
    {
     "ename": "ValueError",
     "evalue": "when `importance_getter=='auto'`, the underlying estimator PolynomialFeatures should have `coef_` or `feature_importances_` attribute. Either pass a fitted estimator to feature selector or call fit before calling transform.",
     "output_type": "error",
     "traceback": [
      "\u001b[0;31m---------------------------------------------------------------------------\u001b[0m",
      "\u001b[0;31mValueError\u001b[0m                                Traceback (most recent call last)",
      "Input \u001b[0;32mIn [24]\u001b[0m, in \u001b[0;36m<cell line: 9>\u001b[0;34m()\u001b[0m\n\u001b[1;32m      6\u001b[0m rfe \u001b[38;5;241m=\u001b[39m RFE(pf, n_features_to_select\u001b[38;5;241m=\u001b[39m\u001b[38;5;241m3\u001b[39m)\n\u001b[1;32m      8\u001b[0m \u001b[38;5;66;03m# fit the data using RFE\u001b[39;00m\n\u001b[0;32m----> 9\u001b[0m \u001b[43mrfe\u001b[49m\u001b[38;5;241;43m.\u001b[39;49m\u001b[43mfit\u001b[49m\u001b[43m(\u001b[49m\u001b[43mX_train\u001b[49m\u001b[43m,\u001b[49m\u001b[43m \u001b[49m\u001b[43my_train\u001b[49m\u001b[43m)\u001b[49m  \n\u001b[1;32m     11\u001b[0m \u001b[38;5;66;03m# get the mask of the columns selected\u001b[39;00m\n\u001b[1;32m     12\u001b[0m feature_mask \u001b[38;5;241m=\u001b[39m rfe\u001b[38;5;241m.\u001b[39msupport_\n",
      "File \u001b[0;32m/opt/homebrew/anaconda3/lib/python3.9/site-packages/sklearn/feature_selection/_rfe.py:222\u001b[0m, in \u001b[0;36mRFE.fit\u001b[0;34m(self, X, y, **fit_params)\u001b[0m\n\u001b[1;32m    202\u001b[0m \u001b[38;5;28;01mdef\u001b[39;00m \u001b[38;5;21mfit\u001b[39m(\u001b[38;5;28mself\u001b[39m, X, y, \u001b[38;5;241m*\u001b[39m\u001b[38;5;241m*\u001b[39mfit_params):\n\u001b[1;32m    203\u001b[0m     \u001b[38;5;124;03m\"\"\"Fit the RFE model and then the underlying estimator on the selected features.\u001b[39;00m\n\u001b[1;32m    204\u001b[0m \n\u001b[1;32m    205\u001b[0m \u001b[38;5;124;03m    Parameters\u001b[39;00m\n\u001b[0;32m   (...)\u001b[0m\n\u001b[1;32m    220\u001b[0m \u001b[38;5;124;03m        Fitted estimator.\u001b[39;00m\n\u001b[1;32m    221\u001b[0m \u001b[38;5;124;03m    \"\"\"\u001b[39;00m\n\u001b[0;32m--> 222\u001b[0m     \u001b[38;5;28;01mreturn\u001b[39;00m \u001b[38;5;28;43mself\u001b[39;49m\u001b[38;5;241;43m.\u001b[39;49m\u001b[43m_fit\u001b[49m\u001b[43m(\u001b[49m\u001b[43mX\u001b[49m\u001b[43m,\u001b[49m\u001b[43m \u001b[49m\u001b[43my\u001b[49m\u001b[43m,\u001b[49m\u001b[43m \u001b[49m\u001b[38;5;241;43m*\u001b[39;49m\u001b[38;5;241;43m*\u001b[39;49m\u001b[43mfit_params\u001b[49m\u001b[43m)\u001b[49m\n",
      "File \u001b[0;32m/opt/homebrew/anaconda3/lib/python3.9/site-packages/sklearn/feature_selection/_rfe.py:286\u001b[0m, in \u001b[0;36mRFE._fit\u001b[0;34m(self, X, y, step_score, **fit_params)\u001b[0m\n\u001b[1;32m    283\u001b[0m estimator\u001b[38;5;241m.\u001b[39mfit(X[:, features], y, \u001b[38;5;241m*\u001b[39m\u001b[38;5;241m*\u001b[39mfit_params)\n\u001b[1;32m    285\u001b[0m \u001b[38;5;66;03m# Get importance and rank them\u001b[39;00m\n\u001b[0;32m--> 286\u001b[0m importances \u001b[38;5;241m=\u001b[39m \u001b[43m_get_feature_importances\u001b[49m\u001b[43m(\u001b[49m\n\u001b[1;32m    287\u001b[0m \u001b[43m    \u001b[49m\u001b[43mestimator\u001b[49m\u001b[43m,\u001b[49m\n\u001b[1;32m    288\u001b[0m \u001b[43m    \u001b[49m\u001b[38;5;28;43mself\u001b[39;49m\u001b[38;5;241;43m.\u001b[39;49m\u001b[43mimportance_getter\u001b[49m\u001b[43m,\u001b[49m\n\u001b[1;32m    289\u001b[0m \u001b[43m    \u001b[49m\u001b[43mtransform_func\u001b[49m\u001b[38;5;241;43m=\u001b[39;49m\u001b[38;5;124;43m\"\u001b[39;49m\u001b[38;5;124;43msquare\u001b[39;49m\u001b[38;5;124;43m\"\u001b[39;49m\u001b[43m,\u001b[49m\n\u001b[1;32m    290\u001b[0m \u001b[43m\u001b[49m\u001b[43m)\u001b[49m\n\u001b[1;32m    291\u001b[0m ranks \u001b[38;5;241m=\u001b[39m np\u001b[38;5;241m.\u001b[39margsort(importances)\n\u001b[1;32m    293\u001b[0m \u001b[38;5;66;03m# for sparse case ranks is matrix\u001b[39;00m\n",
      "File \u001b[0;32m/opt/homebrew/anaconda3/lib/python3.9/site-packages/sklearn/feature_selection/_base.py:204\u001b[0m, in \u001b[0;36m_get_feature_importances\u001b[0;34m(estimator, getter, transform_func, norm_order)\u001b[0m\n\u001b[1;32m    202\u001b[0m         getter \u001b[38;5;241m=\u001b[39m attrgetter(\u001b[38;5;124m\"\u001b[39m\u001b[38;5;124mfeature_importances_\u001b[39m\u001b[38;5;124m\"\u001b[39m)\n\u001b[1;32m    203\u001b[0m     \u001b[38;5;28;01melse\u001b[39;00m:\n\u001b[0;32m--> 204\u001b[0m         \u001b[38;5;28;01mraise\u001b[39;00m \u001b[38;5;167;01mValueError\u001b[39;00m(\n\u001b[1;32m    205\u001b[0m             \u001b[38;5;124m\"\u001b[39m\u001b[38;5;124mwhen `importance_getter==\u001b[39m\u001b[38;5;124m'\u001b[39m\u001b[38;5;124mauto\u001b[39m\u001b[38;5;124m'\u001b[39m\u001b[38;5;124m`, the underlying \u001b[39m\u001b[38;5;124m\"\u001b[39m\n\u001b[1;32m    206\u001b[0m             \u001b[38;5;124mf\u001b[39m\u001b[38;5;124m\"\u001b[39m\u001b[38;5;124mestimator \u001b[39m\u001b[38;5;132;01m{\u001b[39;00mestimator\u001b[38;5;241m.\u001b[39m\u001b[38;5;18m__class__\u001b[39m\u001b[38;5;241m.\u001b[39m\u001b[38;5;18m__name__\u001b[39m\u001b[38;5;132;01m}\u001b[39;00m\u001b[38;5;124m should have \u001b[39m\u001b[38;5;124m\"\u001b[39m\n\u001b[1;32m    207\u001b[0m             \u001b[38;5;124m\"\u001b[39m\u001b[38;5;124m`coef_` or `feature_importances_` attribute. Either \u001b[39m\u001b[38;5;124m\"\u001b[39m\n\u001b[1;32m    208\u001b[0m             \u001b[38;5;124m\"\u001b[39m\u001b[38;5;124mpass a fitted estimator to feature selector or call fit \u001b[39m\u001b[38;5;124m\"\u001b[39m\n\u001b[1;32m    209\u001b[0m             \u001b[38;5;124m\"\u001b[39m\u001b[38;5;124mbefore calling transform.\u001b[39m\u001b[38;5;124m\"\u001b[39m\n\u001b[1;32m    210\u001b[0m         )\n\u001b[1;32m    211\u001b[0m \u001b[38;5;28;01melse\u001b[39;00m:\n\u001b[1;32m    212\u001b[0m     getter \u001b[38;5;241m=\u001b[39m attrgetter(getter)\n",
      "\u001b[0;31mValueError\u001b[0m: when `importance_getter=='auto'`, the underlying estimator PolynomialFeatures should have `coef_` or `feature_importances_` attribute. Either pass a fitted estimator to feature selector or call fit before calling transform."
     ]
    }
   ],
   "source": [
    "#Create the model object\n",
    "pf = PolynomialFeatures(degree=3)\n",
    "pf.fit_transform(X_train)\n",
    "\n",
    "# create the rfe object, indicating the ML object (lm) and the number of features I want to end up with. \n",
    "rfe = RFE(pf, n_features_to_select=3)\n",
    "\n",
    "# fit the data using RFE\n",
    "rfe.fit(X_train, y_train)  \n",
    "\n",
    "# get the mask of the columns selected\n",
    "feature_mask = rfe.support_\n",
    "\n",
    "# get list of the column names. \n",
    "rfe_feature = X_train.iloc[:,feature_mask].columns.tolist()\n",
    "rfe_feature"
   ]
  },
  {
   "cell_type": "markdown",
   "id": "7be5e422",
   "metadata": {},
   "source": [
    "### Evaluate Using Select K Best"
   ]
  },
  {
   "cell_type": "code",
   "execution_count": 28,
   "id": "9617ed9b",
   "metadata": {},
   "outputs": [
    {
     "data": {
      "text/plain": [
       "['bedrooms', 'bathrooms', 'square_feet', 'home_age']"
      ]
     },
     "execution_count": 28,
     "metadata": {},
     "output_type": "execute_result"
    }
   ],
   "source": [
    "from sklearn.feature_selection import SelectKBest, f_regression\n",
    "\n",
    "# parameters: f_regression stats test, give me 4 features\n",
    "f_selector = SelectKBest(f_regression, k=4)\n",
    "\n",
    "# find the top 4 X's correlated with y\n",
    "f_selector.fit(X_train, y_train)\n",
    "\n",
    "# boolean mask of whether the column was selected or not. \n",
    "feature_mask = f_selector.get_support()\n",
    "\n",
    "# get list of top K features. \n",
    "f_feature = X_train.iloc[:,feature_mask].columns.tolist()\n",
    "f_feature"
   ]
  },
  {
   "cell_type": "code",
   "execution_count": null,
   "id": "dc326a9c",
   "metadata": {},
   "outputs": [],
   "source": []
  },
  {
   "cell_type": "code",
   "execution_count": null,
   "id": "d6f97025",
   "metadata": {},
   "outputs": [],
   "source": []
  },
  {
   "cell_type": "code",
   "execution_count": null,
   "id": "9fd698a7",
   "metadata": {},
   "outputs": [],
   "source": []
  },
  {
   "cell_type": "code",
   "execution_count": null,
   "id": "3441435f",
   "metadata": {},
   "outputs": [],
   "source": [
    "#Drop Columns not coming into modeling\n",
    "#train = train.drop(['fips', 'latitude', 'longitude', 'year_built', 'transaction_date', 'parcel_id'], axis=1)"
   ]
  },
  {
   "cell_type": "code",
   "execution_count": null,
   "id": "180d059a",
   "metadata": {},
   "outputs": [],
   "source": [
    "train.head(2)"
   ]
  },
  {
   "cell_type": "code",
   "execution_count": 30,
   "id": "06983bd7",
   "metadata": {},
   "outputs": [
    {
     "data": {
      "text/html": [
       "<div>\n",
       "<style scoped>\n",
       "    .dataframe tbody tr th:only-of-type {\n",
       "        vertical-align: middle;\n",
       "    }\n",
       "\n",
       "    .dataframe tbody tr th {\n",
       "        vertical-align: top;\n",
       "    }\n",
       "\n",
       "    .dataframe thead th {\n",
       "        text-align: right;\n",
       "    }\n",
       "</style>\n",
       "<table border=\"1\" class=\"dataframe\">\n",
       "  <thead>\n",
       "    <tr style=\"text-align: right;\">\n",
       "      <th></th>\n",
       "      <th>bedrooms</th>\n",
       "      <th>bathrooms</th>\n",
       "      <th>square_feet</th>\n",
       "      <th>lot_size</th>\n",
       "      <th>tax_value</th>\n",
       "      <th>home_age</th>\n",
       "      <th>county_Los Angeles</th>\n",
       "      <th>county_Orange</th>\n",
       "      <th>county_Ventura</th>\n",
       "    </tr>\n",
       "  </thead>\n",
       "  <tbody>\n",
       "    <tr>\n",
       "      <th>bedrooms</th>\n",
       "      <td>1.000000</td>\n",
       "      <td>0.623051</td>\n",
       "      <td>0.633182</td>\n",
       "      <td>0.000990</td>\n",
       "      <td>0.258601</td>\n",
       "      <td>-0.391028</td>\n",
       "      <td>-0.169557</td>\n",
       "      <td>0.117605</td>\n",
       "      <td>0.104072</td>\n",
       "    </tr>\n",
       "    <tr>\n",
       "      <th>bathrooms</th>\n",
       "      <td>0.623051</td>\n",
       "      <td>1.000000</td>\n",
       "      <td>0.823024</td>\n",
       "      <td>0.018264</td>\n",
       "      <td>0.478178</td>\n",
       "      <td>-0.556323</td>\n",
       "      <td>-0.189891</td>\n",
       "      <td>0.157683</td>\n",
       "      <td>0.075122</td>\n",
       "    </tr>\n",
       "    <tr>\n",
       "      <th>square_feet</th>\n",
       "      <td>0.633182</td>\n",
       "      <td>0.823024</td>\n",
       "      <td>1.000000</td>\n",
       "      <td>0.028478</td>\n",
       "      <td>0.552214</td>\n",
       "      <td>-0.498617</td>\n",
       "      <td>-0.193812</td>\n",
       "      <td>0.154094</td>\n",
       "      <td>0.087590</td>\n",
       "    </tr>\n",
       "    <tr>\n",
       "      <th>lot_size</th>\n",
       "      <td>0.000990</td>\n",
       "      <td>0.018264</td>\n",
       "      <td>0.028478</td>\n",
       "      <td>1.000000</td>\n",
       "      <td>0.007203</td>\n",
       "      <td>-0.032292</td>\n",
       "      <td>0.020784</td>\n",
       "      <td>-0.025146</td>\n",
       "      <td>0.004358</td>\n",
       "    </tr>\n",
       "    <tr>\n",
       "      <th>tax_value</th>\n",
       "      <td>0.258601</td>\n",
       "      <td>0.478178</td>\n",
       "      <td>0.552214</td>\n",
       "      <td>0.007203</td>\n",
       "      <td>1.000000</td>\n",
       "      <td>-0.237013</td>\n",
       "      <td>-0.163159</td>\n",
       "      <td>0.148454</td>\n",
       "      <td>0.043860</td>\n",
       "    </tr>\n",
       "    <tr>\n",
       "      <th>home_age</th>\n",
       "      <td>-0.391028</td>\n",
       "      <td>-0.556323</td>\n",
       "      <td>-0.498617</td>\n",
       "      <td>-0.032292</td>\n",
       "      <td>-0.237013</td>\n",
       "      <td>1.000000</td>\n",
       "      <td>0.368953</td>\n",
       "      <td>-0.288249</td>\n",
       "      <td>-0.174867</td>\n",
       "    </tr>\n",
       "    <tr>\n",
       "      <th>county_Los Angeles</th>\n",
       "      <td>-0.169557</td>\n",
       "      <td>-0.189891</td>\n",
       "      <td>-0.193812</td>\n",
       "      <td>0.020784</td>\n",
       "      <td>-0.163159</td>\n",
       "      <td>0.368953</td>\n",
       "      <td>1.000000</td>\n",
       "      <td>-0.820612</td>\n",
       "      <td>-0.411194</td>\n",
       "    </tr>\n",
       "    <tr>\n",
       "      <th>county_Orange</th>\n",
       "      <td>0.117605</td>\n",
       "      <td>0.157683</td>\n",
       "      <td>0.154094</td>\n",
       "      <td>-0.025146</td>\n",
       "      <td>0.148454</td>\n",
       "      <td>-0.288249</td>\n",
       "      <td>-0.820612</td>\n",
       "      <td>1.000000</td>\n",
       "      <td>-0.183507</td>\n",
       "    </tr>\n",
       "    <tr>\n",
       "      <th>county_Ventura</th>\n",
       "      <td>0.104072</td>\n",
       "      <td>0.075122</td>\n",
       "      <td>0.087590</td>\n",
       "      <td>0.004358</td>\n",
       "      <td>0.043860</td>\n",
       "      <td>-0.174867</td>\n",
       "      <td>-0.411194</td>\n",
       "      <td>-0.183507</td>\n",
       "      <td>1.000000</td>\n",
       "    </tr>\n",
       "  </tbody>\n",
       "</table>\n",
       "</div>"
      ],
      "text/plain": [
       "                    bedrooms  bathrooms  square_feet  lot_size  tax_value  \\\n",
       "bedrooms            1.000000   0.623051     0.633182  0.000990   0.258601   \n",
       "bathrooms           0.623051   1.000000     0.823024  0.018264   0.478178   \n",
       "square_feet         0.633182   0.823024     1.000000  0.028478   0.552214   \n",
       "lot_size            0.000990   0.018264     0.028478  1.000000   0.007203   \n",
       "tax_value           0.258601   0.478178     0.552214  0.007203   1.000000   \n",
       "home_age           -0.391028  -0.556323    -0.498617 -0.032292  -0.237013   \n",
       "county_Los Angeles -0.169557  -0.189891    -0.193812  0.020784  -0.163159   \n",
       "county_Orange       0.117605   0.157683     0.154094 -0.025146   0.148454   \n",
       "county_Ventura      0.104072   0.075122     0.087590  0.004358   0.043860   \n",
       "\n",
       "                    home_age  county_Los Angeles  county_Orange  \\\n",
       "bedrooms           -0.391028           -0.169557       0.117605   \n",
       "bathrooms          -0.556323           -0.189891       0.157683   \n",
       "square_feet        -0.498617           -0.193812       0.154094   \n",
       "lot_size           -0.032292            0.020784      -0.025146   \n",
       "tax_value          -0.237013           -0.163159       0.148454   \n",
       "home_age            1.000000            0.368953      -0.288249   \n",
       "county_Los Angeles  0.368953            1.000000      -0.820612   \n",
       "county_Orange      -0.288249           -0.820612       1.000000   \n",
       "county_Ventura     -0.174867           -0.411194      -0.183507   \n",
       "\n",
       "                    county_Ventura  \n",
       "bedrooms                  0.104072  \n",
       "bathrooms                 0.075122  \n",
       "square_feet               0.087590  \n",
       "lot_size                  0.004358  \n",
       "tax_value                 0.043860  \n",
       "home_age                 -0.174867  \n",
       "county_Los Angeles       -0.411194  \n",
       "county_Orange            -0.183507  \n",
       "county_Ventura            1.000000  "
      ]
     },
     "execution_count": 30,
     "metadata": {},
     "output_type": "execute_result"
    }
   ],
   "source": [
    "#Heatmap\n",
    "# Create the correlation matrix for all exams.\n",
    "\n",
    "zillow_corr = train.corr()\n",
    "zillow_corr"
   ]
  },
  {
   "cell_type": "code",
   "execution_count": 33,
   "id": "cf98492c",
   "metadata": {},
   "outputs": [
    {
     "data": {
      "image/png": "[encoded data removed]",
      "text/plain": [
       "<Figure size 576x432 with 2 Axes>"
      ]
     },
     "metadata": {
      "needs_background": "light"
     },
     "output_type": "display_data"
    }
   ],
   "source": [
    "plt.figure(figsize=(8,6))\n",
    "sns.heatmap(zillow_corr, cmap='Purples', annot=True, linewidth=0.5, mask= np.triu(zillow_corr))\n",
    "plt.show()"
   ]
  },
  {
   "cell_type": "code",
   "execution_count": 35,
   "id": "c28ab023",
   "metadata": {},
   "outputs": [
    {
     "data": {
      "image/png": "[encoded data removed]",
      "text/plain": [
       "<Figure size 576x432 with 2 Axes>"
      ]
     },
     "metadata": {
      "needs_background": "light"
     },
     "output_type": "display_data"
    }
   ],
   "source": [
    "# Pass my correlation matrix to Seaborn's heatmap.\n",
    "\n",
    "kwargs = {'alpha':.9,'linewidth':3, 'linestyle':'-', \n",
    "          'linecolor':'k','rasterized':False, 'edgecolor':'w', \n",
    "          'capstyle':'projecting',}\n",
    "\n",
    "plt.figure(figsize=(8,6))\n",
    "sns.heatmap(zillow_corr, cmap='Purples', annot=True, mask= np.triu(zillow_corr), **kwargs)\n",
    "plt.show()"
   ]
  },
  {
   "cell_type": "code",
   "execution_count": null,
   "id": "e8655127",
   "metadata": {},
   "outputs": [],
   "source": []
  },
  {
   "cell_type": "markdown",
   "id": "7be7f7bc",
   "metadata": {},
   "source": [
    "### Statistical testing"
   ]
  },
  {
   "cell_type": "markdown",
   "id": "5f70125c",
   "metadata": {},
   "source": [
    "### Testing Variance Inflation Factor"
   ]
  },
  {
   "cell_type": "code",
   "execution_count": 36,
   "id": "f76bef4e",
   "metadata": {},
   "outputs": [],
   "source": [
    "#Need to make county a dummy variable so I can use it in this\n",
    "#Make dummy variables from county and rename them to make it easier\n",
    "#train = pd.get_dummies(train, columns=['county'], drop_first=False)\n",
    "train = train.rename(columns = {'county_Los Angeles':'LA', 'county_Orange':'Orange','county_Ventura':'Ventura'})"
   ]
  },
  {
   "cell_type": "code",
   "execution_count": 37,
   "id": "5e28a877",
   "metadata": {},
   "outputs": [
    {
     "data": {
      "text/html": [
       "<div>\n",
       "<style scoped>\n",
       "    .dataframe tbody tr th:only-of-type {\n",
       "        vertical-align: middle;\n",
       "    }\n",
       "\n",
       "    .dataframe tbody tr th {\n",
       "        vertical-align: top;\n",
       "    }\n",
       "\n",
       "    .dataframe thead th {\n",
       "        text-align: right;\n",
       "    }\n",
       "</style>\n",
       "<table border=\"1\" class=\"dataframe\">\n",
       "  <thead>\n",
       "    <tr style=\"text-align: right;\">\n",
       "      <th></th>\n",
       "      <th>bedrooms</th>\n",
       "      <th>bathrooms</th>\n",
       "      <th>square_feet</th>\n",
       "      <th>lot_size</th>\n",
       "      <th>tax_value</th>\n",
       "      <th>home_age</th>\n",
       "      <th>LA</th>\n",
       "      <th>Orange</th>\n",
       "      <th>Ventura</th>\n",
       "    </tr>\n",
       "  </thead>\n",
       "  <tbody>\n",
       "    <tr>\n",
       "      <th>22349</th>\n",
       "      <td>0.6</td>\n",
       "      <td>0.454545</td>\n",
       "      <td>0.344626</td>\n",
       "      <td>0.001097</td>\n",
       "      <td>554066</td>\n",
       "      <td>0.355072</td>\n",
       "      <td>0</td>\n",
       "      <td>0</td>\n",
       "      <td>1</td>\n",
       "    </tr>\n",
       "    <tr>\n",
       "      <th>1037</th>\n",
       "      <td>0.4</td>\n",
       "      <td>0.363636</td>\n",
       "      <td>0.293614</td>\n",
       "      <td>0.001064</td>\n",
       "      <td>512588</td>\n",
       "      <td>0.391304</td>\n",
       "      <td>1</td>\n",
       "      <td>0</td>\n",
       "      <td>0</td>\n",
       "    </tr>\n",
       "    <tr>\n",
       "      <th>45720</th>\n",
       "      <td>0.2</td>\n",
       "      <td>0.181818</td>\n",
       "      <td>0.169003</td>\n",
       "      <td>0.001036</td>\n",
       "      <td>203468</td>\n",
       "      <td>0.673913</td>\n",
       "      <td>1</td>\n",
       "      <td>0</td>\n",
       "      <td>0</td>\n",
       "    </tr>\n",
       "    <tr>\n",
       "      <th>530</th>\n",
       "      <td>0.8</td>\n",
       "      <td>0.545455</td>\n",
       "      <td>0.384930</td>\n",
       "      <td>0.001052</td>\n",
       "      <td>598997</td>\n",
       "      <td>0.369565</td>\n",
       "      <td>0</td>\n",
       "      <td>1</td>\n",
       "      <td>0</td>\n",
       "    </tr>\n",
       "    <tr>\n",
       "      <th>17785</th>\n",
       "      <td>0.6</td>\n",
       "      <td>0.454545</td>\n",
       "      <td>0.329439</td>\n",
       "      <td>0.001788</td>\n",
       "      <td>80685</td>\n",
       "      <td>0.362319</td>\n",
       "      <td>0</td>\n",
       "      <td>0</td>\n",
       "      <td>1</td>\n",
       "    </tr>\n",
       "  </tbody>\n",
       "</table>\n",
       "</div>"
      ],
      "text/plain": [
       "       bedrooms  bathrooms  square_feet  lot_size  tax_value  home_age  LA  \\\n",
       "22349       0.6   0.454545     0.344626  0.001097     554066  0.355072   0   \n",
       "1037        0.4   0.363636     0.293614  0.001064     512588  0.391304   1   \n",
       "45720       0.2   0.181818     0.169003  0.001036     203468  0.673913   1   \n",
       "530         0.8   0.545455     0.384930  0.001052     598997  0.369565   0   \n",
       "17785       0.6   0.454545     0.329439  0.001788      80685  0.362319   0   \n",
       "\n",
       "       Orange  Ventura  \n",
       "22349       0        1  \n",
       "1037        0        0  \n",
       "45720       0        0  \n",
       "530         1        0  \n",
       "17785       0        1  "
      ]
     },
     "execution_count": 37,
     "metadata": {},
     "output_type": "execute_result"
    }
   ],
   "source": [
    "train.head()"
   ]
  },
  {
   "cell_type": "code",
   "execution_count": 59,
   "id": "6ed13d9e",
   "metadata": {},
   "outputs": [
    {
     "data": {
      "text/html": [
       "<div>\n",
       "<style scoped>\n",
       "    .dataframe tbody tr th:only-of-type {\n",
       "        vertical-align: middle;\n",
       "    }\n",
       "\n",
       "    .dataframe tbody tr th {\n",
       "        vertical-align: top;\n",
       "    }\n",
       "\n",
       "    .dataframe thead th {\n",
       "        text-align: right;\n",
       "    }\n",
       "</style>\n",
       "<table border=\"1\" class=\"dataframe\">\n",
       "  <thead>\n",
       "    <tr style=\"text-align: right;\">\n",
       "      <th></th>\n",
       "      <th>feature</th>\n",
       "      <th>VIF</th>\n",
       "    </tr>\n",
       "  </thead>\n",
       "  <tbody>\n",
       "    <tr>\n",
       "      <th>0</th>\n",
       "      <td>square_feet</td>\n",
       "      <td>17.479632</td>\n",
       "    </tr>\n",
       "    <tr>\n",
       "      <th>1</th>\n",
       "      <td>bathrooms</td>\n",
       "      <td>19.415571</td>\n",
       "    </tr>\n",
       "    <tr>\n",
       "      <th>2</th>\n",
       "      <td>home_age</td>\n",
       "      <td>4.124628</td>\n",
       "    </tr>\n",
       "    <tr>\n",
       "      <th>3</th>\n",
       "      <td>LA</td>\n",
       "      <td>3.269768</td>\n",
       "    </tr>\n",
       "  </tbody>\n",
       "</table>\n",
       "</div>"
      ],
      "text/plain": [
       "       feature        VIF\n",
       "0  square_feet  17.479632\n",
       "1    bathrooms  19.415571\n",
       "2     home_age   4.124628\n",
       "3           LA   3.269768"
      ]
     },
     "execution_count": 59,
     "metadata": {},
     "output_type": "execute_result"
    }
   ],
   "source": [
    "#Using all variables for this first\n",
    "X = train[['square_feet','bathrooms','home_age', 'LA']]\n",
    "# VIF dataframe\n",
    "vif_data = pd.DataFrame()\n",
    "vif_data[\"feature\"] = X.columns\n",
    "  \n",
    "# calculating VIF for each feature\n",
    "vif_data[\"VIF\"] = [variance_inflation_factor(X.values, i)\n",
    "                          for i in range(len(X.columns))]\n",
    "  \n",
    "vif_data"
   ]
  },
  {
   "cell_type": "code",
   "execution_count": null,
   "id": "304fdb36",
   "metadata": {},
   "outputs": [],
   "source": []
  }
 ],
 "metadata": {
  "kernelspec": {
   "display_name": "Python 3 (ipykernel)",
   "language": "python",
   "name": "python3"
  },
  "language_info": {
   "codemirror_mode": {
    "name": "ipython",
    "version": 3
   },
   "file_extension": ".py",
   "mimetype": "text/x-python",
   "name": "python",
   "nbconvert_exporter": "python",
   "pygments_lexer": "ipython3",
   "version": "3.9.12"
  }
 },
 "nbformat": 4,
 "nbformat_minor": 5
}
